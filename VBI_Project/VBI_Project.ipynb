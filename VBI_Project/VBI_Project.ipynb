{
 "cells": [
  {
   "cell_type": "markdown",
   "id": "b30941cc",
   "metadata": {},
   "source": [
    "# Using \"Internet Advertisements\" dataset from  \n",
    "### https://archive.ics.uci.edu/dataset/51/internet+advertisements\n",
    "### or\n",
    "### https://www.kaggle.com/datasets/uciml/internet-advertisements-data-set/data\n",
    "\n",
    "# Project of ESMA KARA and DİLARA TOP"
   ]
  },
  {
   "cell_type": "code",
   "execution_count": null,
   "id": "86bfe06d",
   "metadata": {},
   "outputs": [],
   "source": []
  },
  {
   "cell_type": "markdown",
   "id": "cd807d01",
   "metadata": {},
   "source": [
    "<h3>DATA PREPROCESSING<h3>"
   ]
  },
  {
   "cell_type": "code",
   "execution_count": 1,
   "id": "ced3da98",
   "metadata": {},
   "outputs": [],
   "source": [
    "import math\n",
    "import pandas as pd\n",
    "import numpy as np\n",
    "import seaborn as sb\n",
    "import scipy.stats as sp\n",
    "import matplotlib.pyplot as plt\n",
    "from statsmodels.graphics.gofplots import qqplot\n",
    "from statsmodels.stats.weightstats import ztest\n",
    "from scipy.stats import shapiro"
   ]
  },
  {
   "cell_type": "code",
   "execution_count": 2,
   "id": "a39db447",
   "metadata": {
    "scrolled": false
   },
   "outputs": [
    {
     "data": {
      "text/html": [
       "<div>\n",
       "<style scoped>\n",
       "    .dataframe tbody tr th:only-of-type {\n",
       "        vertical-align: middle;\n",
       "    }\n",
       "\n",
       "    .dataframe tbody tr th {\n",
       "        vertical-align: top;\n",
       "    }\n",
       "\n",
       "    .dataframe thead th {\n",
       "        text-align: right;\n",
       "    }\n",
       "</style>\n",
       "<table border=\"1\" class=\"dataframe\">\n",
       "  <thead>\n",
       "    <tr style=\"text-align: right;\">\n",
       "      <th></th>\n",
       "      <th>Unnamed: 0</th>\n",
       "      <th>0</th>\n",
       "      <th>1</th>\n",
       "      <th>2</th>\n",
       "      <th>3</th>\n",
       "      <th>4</th>\n",
       "      <th>5</th>\n",
       "      <th>6</th>\n",
       "      <th>7</th>\n",
       "      <th>8</th>\n",
       "      <th>...</th>\n",
       "      <th>1549</th>\n",
       "      <th>1550</th>\n",
       "      <th>1551</th>\n",
       "      <th>1552</th>\n",
       "      <th>1553</th>\n",
       "      <th>1554</th>\n",
       "      <th>1555</th>\n",
       "      <th>1556</th>\n",
       "      <th>1557</th>\n",
       "      <th>1558</th>\n",
       "    </tr>\n",
       "  </thead>\n",
       "  <tbody>\n",
       "    <tr>\n",
       "      <th>0</th>\n",
       "      <td>0</td>\n",
       "      <td>125</td>\n",
       "      <td>125</td>\n",
       "      <td>1</td>\n",
       "      <td>1</td>\n",
       "      <td>0</td>\n",
       "      <td>0</td>\n",
       "      <td>0</td>\n",
       "      <td>0</td>\n",
       "      <td>0</td>\n",
       "      <td>...</td>\n",
       "      <td>0</td>\n",
       "      <td>0</td>\n",
       "      <td>0</td>\n",
       "      <td>0</td>\n",
       "      <td>0</td>\n",
       "      <td>0</td>\n",
       "      <td>0</td>\n",
       "      <td>0</td>\n",
       "      <td>0</td>\n",
       "      <td>ad.</td>\n",
       "    </tr>\n",
       "    <tr>\n",
       "      <th>1</th>\n",
       "      <td>1</td>\n",
       "      <td>57</td>\n",
       "      <td>468</td>\n",
       "      <td>8.2105</td>\n",
       "      <td>1</td>\n",
       "      <td>0</td>\n",
       "      <td>0</td>\n",
       "      <td>0</td>\n",
       "      <td>0</td>\n",
       "      <td>0</td>\n",
       "      <td>...</td>\n",
       "      <td>0</td>\n",
       "      <td>0</td>\n",
       "      <td>0</td>\n",
       "      <td>0</td>\n",
       "      <td>0</td>\n",
       "      <td>0</td>\n",
       "      <td>0</td>\n",
       "      <td>0</td>\n",
       "      <td>0</td>\n",
       "      <td>ad.</td>\n",
       "    </tr>\n",
       "    <tr>\n",
       "      <th>2</th>\n",
       "      <td>2</td>\n",
       "      <td>33</td>\n",
       "      <td>230</td>\n",
       "      <td>6.9696</td>\n",
       "      <td>1</td>\n",
       "      <td>0</td>\n",
       "      <td>0</td>\n",
       "      <td>0</td>\n",
       "      <td>0</td>\n",
       "      <td>0</td>\n",
       "      <td>...</td>\n",
       "      <td>0</td>\n",
       "      <td>0</td>\n",
       "      <td>0</td>\n",
       "      <td>0</td>\n",
       "      <td>0</td>\n",
       "      <td>0</td>\n",
       "      <td>0</td>\n",
       "      <td>0</td>\n",
       "      <td>0</td>\n",
       "      <td>ad.</td>\n",
       "    </tr>\n",
       "    <tr>\n",
       "      <th>3</th>\n",
       "      <td>3</td>\n",
       "      <td>60</td>\n",
       "      <td>468</td>\n",
       "      <td>7.8</td>\n",
       "      <td>1</td>\n",
       "      <td>0</td>\n",
       "      <td>0</td>\n",
       "      <td>0</td>\n",
       "      <td>0</td>\n",
       "      <td>0</td>\n",
       "      <td>...</td>\n",
       "      <td>0</td>\n",
       "      <td>0</td>\n",
       "      <td>0</td>\n",
       "      <td>0</td>\n",
       "      <td>0</td>\n",
       "      <td>0</td>\n",
       "      <td>0</td>\n",
       "      <td>0</td>\n",
       "      <td>0</td>\n",
       "      <td>ad.</td>\n",
       "    </tr>\n",
       "    <tr>\n",
       "      <th>4</th>\n",
       "      <td>4</td>\n",
       "      <td>60</td>\n",
       "      <td>468</td>\n",
       "      <td>7.8</td>\n",
       "      <td>1</td>\n",
       "      <td>0</td>\n",
       "      <td>0</td>\n",
       "      <td>0</td>\n",
       "      <td>0</td>\n",
       "      <td>0</td>\n",
       "      <td>...</td>\n",
       "      <td>0</td>\n",
       "      <td>0</td>\n",
       "      <td>0</td>\n",
       "      <td>0</td>\n",
       "      <td>0</td>\n",
       "      <td>0</td>\n",
       "      <td>0</td>\n",
       "      <td>0</td>\n",
       "      <td>0</td>\n",
       "      <td>ad.</td>\n",
       "    </tr>\n",
       "  </tbody>\n",
       "</table>\n",
       "<p>5 rows × 1560 columns</p>\n",
       "</div>"
      ],
      "text/plain": [
       "   Unnamed: 0    0    1       2  3  4  5  6  7  8  ...  1549  1550  1551  \\\n",
       "0           0  125  125       1  1  0  0  0  0  0  ...     0     0     0   \n",
       "1           1   57  468  8.2105  1  0  0  0  0  0  ...     0     0     0   \n",
       "2           2   33  230  6.9696  1  0  0  0  0  0  ...     0     0     0   \n",
       "3           3   60  468     7.8  1  0  0  0  0  0  ...     0     0     0   \n",
       "4           4   60  468     7.8  1  0  0  0  0  0  ...     0     0     0   \n",
       "\n",
       "   1552  1553  1554  1555  1556  1557  1558  \n",
       "0     0     0     0     0     0     0   ad.  \n",
       "1     0     0     0     0     0     0   ad.  \n",
       "2     0     0     0     0     0     0   ad.  \n",
       "3     0     0     0     0     0     0   ad.  \n",
       "4     0     0     0     0     0     0   ad.  \n",
       "\n",
       "[5 rows x 1560 columns]"
      ]
     },
     "execution_count": 2,
     "metadata": {},
     "output_type": "execute_result"
    }
   ],
   "source": [
    "# reading dataframe\n",
    "# low_memory=True by default is used to read large files with less memory\n",
    "# False can read files faster using more memory\n",
    "df = pd.read_csv('add.csv')\n",
    "\n",
    "# showing first 5 rowsthe operations will be applied directly on the original file\n",
    "df.head()"
   ]
  },
  {
   "cell_type": "code",
   "execution_count": 3,
   "id": "bee86e08",
   "metadata": {},
   "outputs": [
    {
     "data": {
      "text/html": [
       "<div>\n",
       "<style scoped>\n",
       "    .dataframe tbody tr th:only-of-type {\n",
       "        vertical-align: middle;\n",
       "    }\n",
       "\n",
       "    .dataframe tbody tr th {\n",
       "        vertical-align: top;\n",
       "    }\n",
       "\n",
       "    .dataframe thead th {\n",
       "        text-align: right;\n",
       "    }\n",
       "</style>\n",
       "<table border=\"1\" class=\"dataframe\">\n",
       "  <thead>\n",
       "    <tr style=\"text-align: right;\">\n",
       "      <th></th>\n",
       "      <th>0</th>\n",
       "      <th>1</th>\n",
       "      <th>2</th>\n",
       "      <th>3</th>\n",
       "      <th>4</th>\n",
       "      <th>5</th>\n",
       "      <th>6</th>\n",
       "      <th>7</th>\n",
       "      <th>8</th>\n",
       "      <th>9</th>\n",
       "      <th>...</th>\n",
       "      <th>1549</th>\n",
       "      <th>1550</th>\n",
       "      <th>1551</th>\n",
       "      <th>1552</th>\n",
       "      <th>1553</th>\n",
       "      <th>1554</th>\n",
       "      <th>1555</th>\n",
       "      <th>1556</th>\n",
       "      <th>1557</th>\n",
       "      <th>1558</th>\n",
       "    </tr>\n",
       "  </thead>\n",
       "  <tbody>\n",
       "    <tr>\n",
       "      <th>0</th>\n",
       "      <td>125</td>\n",
       "      <td>125</td>\n",
       "      <td>1</td>\n",
       "      <td>1</td>\n",
       "      <td>0</td>\n",
       "      <td>0</td>\n",
       "      <td>0</td>\n",
       "      <td>0</td>\n",
       "      <td>0</td>\n",
       "      <td>0</td>\n",
       "      <td>...</td>\n",
       "      <td>0</td>\n",
       "      <td>0</td>\n",
       "      <td>0</td>\n",
       "      <td>0</td>\n",
       "      <td>0</td>\n",
       "      <td>0</td>\n",
       "      <td>0</td>\n",
       "      <td>0</td>\n",
       "      <td>0</td>\n",
       "      <td>ad.</td>\n",
       "    </tr>\n",
       "    <tr>\n",
       "      <th>1</th>\n",
       "      <td>57</td>\n",
       "      <td>468</td>\n",
       "      <td>8.2105</td>\n",
       "      <td>1</td>\n",
       "      <td>0</td>\n",
       "      <td>0</td>\n",
       "      <td>0</td>\n",
       "      <td>0</td>\n",
       "      <td>0</td>\n",
       "      <td>0</td>\n",
       "      <td>...</td>\n",
       "      <td>0</td>\n",
       "      <td>0</td>\n",
       "      <td>0</td>\n",
       "      <td>0</td>\n",
       "      <td>0</td>\n",
       "      <td>0</td>\n",
       "      <td>0</td>\n",
       "      <td>0</td>\n",
       "      <td>0</td>\n",
       "      <td>ad.</td>\n",
       "    </tr>\n",
       "    <tr>\n",
       "      <th>2</th>\n",
       "      <td>33</td>\n",
       "      <td>230</td>\n",
       "      <td>6.9696</td>\n",
       "      <td>1</td>\n",
       "      <td>0</td>\n",
       "      <td>0</td>\n",
       "      <td>0</td>\n",
       "      <td>0</td>\n",
       "      <td>0</td>\n",
       "      <td>0</td>\n",
       "      <td>...</td>\n",
       "      <td>0</td>\n",
       "      <td>0</td>\n",
       "      <td>0</td>\n",
       "      <td>0</td>\n",
       "      <td>0</td>\n",
       "      <td>0</td>\n",
       "      <td>0</td>\n",
       "      <td>0</td>\n",
       "      <td>0</td>\n",
       "      <td>ad.</td>\n",
       "    </tr>\n",
       "    <tr>\n",
       "      <th>3</th>\n",
       "      <td>60</td>\n",
       "      <td>468</td>\n",
       "      <td>7.8</td>\n",
       "      <td>1</td>\n",
       "      <td>0</td>\n",
       "      <td>0</td>\n",
       "      <td>0</td>\n",
       "      <td>0</td>\n",
       "      <td>0</td>\n",
       "      <td>0</td>\n",
       "      <td>...</td>\n",
       "      <td>0</td>\n",
       "      <td>0</td>\n",
       "      <td>0</td>\n",
       "      <td>0</td>\n",
       "      <td>0</td>\n",
       "      <td>0</td>\n",
       "      <td>0</td>\n",
       "      <td>0</td>\n",
       "      <td>0</td>\n",
       "      <td>ad.</td>\n",
       "    </tr>\n",
       "    <tr>\n",
       "      <th>4</th>\n",
       "      <td>60</td>\n",
       "      <td>468</td>\n",
       "      <td>7.8</td>\n",
       "      <td>1</td>\n",
       "      <td>0</td>\n",
       "      <td>0</td>\n",
       "      <td>0</td>\n",
       "      <td>0</td>\n",
       "      <td>0</td>\n",
       "      <td>0</td>\n",
       "      <td>...</td>\n",
       "      <td>0</td>\n",
       "      <td>0</td>\n",
       "      <td>0</td>\n",
       "      <td>0</td>\n",
       "      <td>0</td>\n",
       "      <td>0</td>\n",
       "      <td>0</td>\n",
       "      <td>0</td>\n",
       "      <td>0</td>\n",
       "      <td>ad.</td>\n",
       "    </tr>\n",
       "    <tr>\n",
       "      <th>...</th>\n",
       "      <td>...</td>\n",
       "      <td>...</td>\n",
       "      <td>...</td>\n",
       "      <td>...</td>\n",
       "      <td>...</td>\n",
       "      <td>...</td>\n",
       "      <td>...</td>\n",
       "      <td>...</td>\n",
       "      <td>...</td>\n",
       "      <td>...</td>\n",
       "      <td>...</td>\n",
       "      <td>...</td>\n",
       "      <td>...</td>\n",
       "      <td>...</td>\n",
       "      <td>...</td>\n",
       "      <td>...</td>\n",
       "      <td>...</td>\n",
       "      <td>...</td>\n",
       "      <td>...</td>\n",
       "      <td>...</td>\n",
       "      <td>...</td>\n",
       "    </tr>\n",
       "    <tr>\n",
       "      <th>3274</th>\n",
       "      <td>170</td>\n",
       "      <td>94</td>\n",
       "      <td>0.5529</td>\n",
       "      <td>0</td>\n",
       "      <td>0</td>\n",
       "      <td>0</td>\n",
       "      <td>0</td>\n",
       "      <td>0</td>\n",
       "      <td>0</td>\n",
       "      <td>0</td>\n",
       "      <td>...</td>\n",
       "      <td>0</td>\n",
       "      <td>0</td>\n",
       "      <td>0</td>\n",
       "      <td>0</td>\n",
       "      <td>0</td>\n",
       "      <td>0</td>\n",
       "      <td>0</td>\n",
       "      <td>0</td>\n",
       "      <td>0</td>\n",
       "      <td>nonad.</td>\n",
       "    </tr>\n",
       "    <tr>\n",
       "      <th>3275</th>\n",
       "      <td>101</td>\n",
       "      <td>140</td>\n",
       "      <td>1.3861</td>\n",
       "      <td>1</td>\n",
       "      <td>0</td>\n",
       "      <td>0</td>\n",
       "      <td>0</td>\n",
       "      <td>0</td>\n",
       "      <td>0</td>\n",
       "      <td>0</td>\n",
       "      <td>...</td>\n",
       "      <td>0</td>\n",
       "      <td>0</td>\n",
       "      <td>0</td>\n",
       "      <td>0</td>\n",
       "      <td>0</td>\n",
       "      <td>0</td>\n",
       "      <td>0</td>\n",
       "      <td>0</td>\n",
       "      <td>0</td>\n",
       "      <td>nonad.</td>\n",
       "    </tr>\n",
       "    <tr>\n",
       "      <th>3276</th>\n",
       "      <td>23</td>\n",
       "      <td>120</td>\n",
       "      <td>5.2173</td>\n",
       "      <td>1</td>\n",
       "      <td>0</td>\n",
       "      <td>0</td>\n",
       "      <td>0</td>\n",
       "      <td>0</td>\n",
       "      <td>0</td>\n",
       "      <td>0</td>\n",
       "      <td>...</td>\n",
       "      <td>0</td>\n",
       "      <td>0</td>\n",
       "      <td>0</td>\n",
       "      <td>0</td>\n",
       "      <td>0</td>\n",
       "      <td>0</td>\n",
       "      <td>0</td>\n",
       "      <td>0</td>\n",
       "      <td>0</td>\n",
       "      <td>nonad.</td>\n",
       "    </tr>\n",
       "    <tr>\n",
       "      <th>3277</th>\n",
       "      <td>?</td>\n",
       "      <td>?</td>\n",
       "      <td>?</td>\n",
       "      <td>1</td>\n",
       "      <td>0</td>\n",
       "      <td>0</td>\n",
       "      <td>0</td>\n",
       "      <td>0</td>\n",
       "      <td>0</td>\n",
       "      <td>0</td>\n",
       "      <td>...</td>\n",
       "      <td>0</td>\n",
       "      <td>0</td>\n",
       "      <td>0</td>\n",
       "      <td>0</td>\n",
       "      <td>0</td>\n",
       "      <td>0</td>\n",
       "      <td>0</td>\n",
       "      <td>0</td>\n",
       "      <td>0</td>\n",
       "      <td>nonad.</td>\n",
       "    </tr>\n",
       "    <tr>\n",
       "      <th>3278</th>\n",
       "      <td>40</td>\n",
       "      <td>40</td>\n",
       "      <td>1</td>\n",
       "      <td>1</td>\n",
       "      <td>0</td>\n",
       "      <td>0</td>\n",
       "      <td>0</td>\n",
       "      <td>0</td>\n",
       "      <td>0</td>\n",
       "      <td>0</td>\n",
       "      <td>...</td>\n",
       "      <td>0</td>\n",
       "      <td>0</td>\n",
       "      <td>0</td>\n",
       "      <td>0</td>\n",
       "      <td>0</td>\n",
       "      <td>0</td>\n",
       "      <td>0</td>\n",
       "      <td>0</td>\n",
       "      <td>0</td>\n",
       "      <td>nonad.</td>\n",
       "    </tr>\n",
       "  </tbody>\n",
       "</table>\n",
       "<p>3279 rows × 1559 columns</p>\n",
       "</div>"
      ],
      "text/plain": [
       "         0     1       2  3  4  5  6  7  8  9  ...  1549  1550  1551  1552  \\\n",
       "0      125   125       1  1  0  0  0  0  0  0  ...     0     0     0     0   \n",
       "1       57   468  8.2105  1  0  0  0  0  0  0  ...     0     0     0     0   \n",
       "2       33   230  6.9696  1  0  0  0  0  0  0  ...     0     0     0     0   \n",
       "3       60   468     7.8  1  0  0  0  0  0  0  ...     0     0     0     0   \n",
       "4       60   468     7.8  1  0  0  0  0  0  0  ...     0     0     0     0   \n",
       "...    ...   ...     ... .. .. .. .. .. .. ..  ...   ...   ...   ...   ...   \n",
       "3274   170    94  0.5529  0  0  0  0  0  0  0  ...     0     0     0     0   \n",
       "3275   101   140  1.3861  1  0  0  0  0  0  0  ...     0     0     0     0   \n",
       "3276    23   120  5.2173  1  0  0  0  0  0  0  ...     0     0     0     0   \n",
       "3277     ?     ?       ?  1  0  0  0  0  0  0  ...     0     0     0     0   \n",
       "3278    40    40       1  1  0  0  0  0  0  0  ...     0     0     0     0   \n",
       "\n",
       "      1553  1554  1555  1556  1557    1558  \n",
       "0        0     0     0     0     0     ad.  \n",
       "1        0     0     0     0     0     ad.  \n",
       "2        0     0     0     0     0     ad.  \n",
       "3        0     0     0     0     0     ad.  \n",
       "4        0     0     0     0     0     ad.  \n",
       "...    ...   ...   ...   ...   ...     ...  \n",
       "3274     0     0     0     0     0  nonad.  \n",
       "3275     0     0     0     0     0  nonad.  \n",
       "3276     0     0     0     0     0  nonad.  \n",
       "3277     0     0     0     0     0  nonad.  \n",
       "3278     0     0     0     0     0  nonad.  \n",
       "\n",
       "[3279 rows x 1559 columns]"
      ]
     },
     "execution_count": 3,
     "metadata": {},
     "output_type": "execute_result"
    }
   ],
   "source": [
    "# dropping the unnamed:0 column \n",
    "# axis=1 refers to columns.\n",
    "df.drop('Unnamed: 0',inplace=True, axis=1)\n",
    "df"
   ]
  },
  {
   "cell_type": "code",
   "execution_count": 4,
   "id": "fcb82855",
   "metadata": {},
   "outputs": [
    {
     "data": {
      "text/html": [
       "<div>\n",
       "<style scoped>\n",
       "    .dataframe tbody tr th:only-of-type {\n",
       "        vertical-align: middle;\n",
       "    }\n",
       "\n",
       "    .dataframe tbody tr th {\n",
       "        vertical-align: top;\n",
       "    }\n",
       "\n",
       "    .dataframe thead th {\n",
       "        text-align: right;\n",
       "    }\n",
       "</style>\n",
       "<table border=\"1\" class=\"dataframe\">\n",
       "  <thead>\n",
       "    <tr style=\"text-align: right;\">\n",
       "      <th></th>\n",
       "      <th>height</th>\n",
       "      <th>width</th>\n",
       "      <th>ratio(width/height)</th>\n",
       "      <th>local</th>\n",
       "      <th>4</th>\n",
       "      <th>5</th>\n",
       "      <th>6</th>\n",
       "      <th>7</th>\n",
       "      <th>8</th>\n",
       "      <th>9</th>\n",
       "      <th>...</th>\n",
       "      <th>1549</th>\n",
       "      <th>1550</th>\n",
       "      <th>1551</th>\n",
       "      <th>1552</th>\n",
       "      <th>1553</th>\n",
       "      <th>1554</th>\n",
       "      <th>1555</th>\n",
       "      <th>1556</th>\n",
       "      <th>1557</th>\n",
       "      <th>ad status</th>\n",
       "    </tr>\n",
       "  </thead>\n",
       "  <tbody>\n",
       "    <tr>\n",
       "      <th>3274</th>\n",
       "      <td>170</td>\n",
       "      <td>94</td>\n",
       "      <td>0.5529</td>\n",
       "      <td>0</td>\n",
       "      <td>0</td>\n",
       "      <td>0</td>\n",
       "      <td>0</td>\n",
       "      <td>0</td>\n",
       "      <td>0</td>\n",
       "      <td>0</td>\n",
       "      <td>...</td>\n",
       "      <td>0</td>\n",
       "      <td>0</td>\n",
       "      <td>0</td>\n",
       "      <td>0</td>\n",
       "      <td>0</td>\n",
       "      <td>0</td>\n",
       "      <td>0</td>\n",
       "      <td>0</td>\n",
       "      <td>0</td>\n",
       "      <td>nonad.</td>\n",
       "    </tr>\n",
       "    <tr>\n",
       "      <th>3275</th>\n",
       "      <td>101</td>\n",
       "      <td>140</td>\n",
       "      <td>1.3861</td>\n",
       "      <td>1</td>\n",
       "      <td>0</td>\n",
       "      <td>0</td>\n",
       "      <td>0</td>\n",
       "      <td>0</td>\n",
       "      <td>0</td>\n",
       "      <td>0</td>\n",
       "      <td>...</td>\n",
       "      <td>0</td>\n",
       "      <td>0</td>\n",
       "      <td>0</td>\n",
       "      <td>0</td>\n",
       "      <td>0</td>\n",
       "      <td>0</td>\n",
       "      <td>0</td>\n",
       "      <td>0</td>\n",
       "      <td>0</td>\n",
       "      <td>nonad.</td>\n",
       "    </tr>\n",
       "    <tr>\n",
       "      <th>3276</th>\n",
       "      <td>23</td>\n",
       "      <td>120</td>\n",
       "      <td>5.2173</td>\n",
       "      <td>1</td>\n",
       "      <td>0</td>\n",
       "      <td>0</td>\n",
       "      <td>0</td>\n",
       "      <td>0</td>\n",
       "      <td>0</td>\n",
       "      <td>0</td>\n",
       "      <td>...</td>\n",
       "      <td>0</td>\n",
       "      <td>0</td>\n",
       "      <td>0</td>\n",
       "      <td>0</td>\n",
       "      <td>0</td>\n",
       "      <td>0</td>\n",
       "      <td>0</td>\n",
       "      <td>0</td>\n",
       "      <td>0</td>\n",
       "      <td>nonad.</td>\n",
       "    </tr>\n",
       "    <tr>\n",
       "      <th>3277</th>\n",
       "      <td>?</td>\n",
       "      <td>?</td>\n",
       "      <td>?</td>\n",
       "      <td>1</td>\n",
       "      <td>0</td>\n",
       "      <td>0</td>\n",
       "      <td>0</td>\n",
       "      <td>0</td>\n",
       "      <td>0</td>\n",
       "      <td>0</td>\n",
       "      <td>...</td>\n",
       "      <td>0</td>\n",
       "      <td>0</td>\n",
       "      <td>0</td>\n",
       "      <td>0</td>\n",
       "      <td>0</td>\n",
       "      <td>0</td>\n",
       "      <td>0</td>\n",
       "      <td>0</td>\n",
       "      <td>0</td>\n",
       "      <td>nonad.</td>\n",
       "    </tr>\n",
       "    <tr>\n",
       "      <th>3278</th>\n",
       "      <td>40</td>\n",
       "      <td>40</td>\n",
       "      <td>1</td>\n",
       "      <td>1</td>\n",
       "      <td>0</td>\n",
       "      <td>0</td>\n",
       "      <td>0</td>\n",
       "      <td>0</td>\n",
       "      <td>0</td>\n",
       "      <td>0</td>\n",
       "      <td>...</td>\n",
       "      <td>0</td>\n",
       "      <td>0</td>\n",
       "      <td>0</td>\n",
       "      <td>0</td>\n",
       "      <td>0</td>\n",
       "      <td>0</td>\n",
       "      <td>0</td>\n",
       "      <td>0</td>\n",
       "      <td>0</td>\n",
       "      <td>nonad.</td>\n",
       "    </tr>\n",
       "  </tbody>\n",
       "</table>\n",
       "<p>5 rows × 1559 columns</p>\n",
       "</div>"
      ],
      "text/plain": [
       "     height width ratio(width/height) local  4  5  6  7  8  9  ...  1549  \\\n",
       "3274    170    94              0.5529     0  0  0  0  0  0  0  ...     0   \n",
       "3275    101   140              1.3861     1  0  0  0  0  0  0  ...     0   \n",
       "3276     23   120              5.2173     1  0  0  0  0  0  0  ...     0   \n",
       "3277      ?     ?                   ?     1  0  0  0  0  0  0  ...     0   \n",
       "3278     40    40                   1     1  0  0  0  0  0  0  ...     0   \n",
       "\n",
       "      1550  1551  1552  1553  1554  1555  1556  1557  ad status  \n",
       "3274     0     0     0     0     0     0     0     0     nonad.  \n",
       "3275     0     0     0     0     0     0     0     0     nonad.  \n",
       "3276     0     0     0     0     0     0     0     0     nonad.  \n",
       "3277     0     0     0     0     0     0     0     0     nonad.  \n",
       "3278     0     0     0     0     0     0     0     0     nonad.  \n",
       "\n",
       "[5 rows x 1559 columns]"
      ]
     },
     "execution_count": 4,
     "metadata": {},
     "output_type": "execute_result"
    }
   ],
   "source": [
    "# rename the column names \n",
    "# if inplace=false then does not make any changes to the main file,\n",
    "# if true then the operations will be applied directly on the original file.\n",
    "df.rename(columns={'0':'height', '1':'width', '2':'ratio(width/height)',\n",
    "                   '3':'local', '1558':'ad status'}, inplace=True)\n",
    "# showing last 5 rows\n",
    "df.tail()"
   ]
  },
  {
   "cell_type": "code",
   "execution_count": 5,
   "id": "74accf79",
   "metadata": {},
   "outputs": [
    {
     "data": {
      "text/html": [
       "<div>\n",
       "<style scoped>\n",
       "    .dataframe tbody tr th:only-of-type {\n",
       "        vertical-align: middle;\n",
       "    }\n",
       "\n",
       "    .dataframe tbody tr th {\n",
       "        vertical-align: top;\n",
       "    }\n",
       "\n",
       "    .dataframe thead th {\n",
       "        text-align: right;\n",
       "    }\n",
       "</style>\n",
       "<table border=\"1\" class=\"dataframe\">\n",
       "  <thead>\n",
       "    <tr style=\"text-align: right;\">\n",
       "      <th></th>\n",
       "      <th>height</th>\n",
       "      <th>width</th>\n",
       "      <th>ratio(width/height)</th>\n",
       "      <th>local</th>\n",
       "      <th>ad status</th>\n",
       "    </tr>\n",
       "  </thead>\n",
       "  <tbody>\n",
       "    <tr>\n",
       "      <th>0</th>\n",
       "      <td>125</td>\n",
       "      <td>125</td>\n",
       "      <td>1</td>\n",
       "      <td>1</td>\n",
       "      <td>ad.</td>\n",
       "    </tr>\n",
       "    <tr>\n",
       "      <th>1</th>\n",
       "      <td>57</td>\n",
       "      <td>468</td>\n",
       "      <td>8.2105</td>\n",
       "      <td>1</td>\n",
       "      <td>ad.</td>\n",
       "    </tr>\n",
       "    <tr>\n",
       "      <th>2</th>\n",
       "      <td>33</td>\n",
       "      <td>230</td>\n",
       "      <td>6.9696</td>\n",
       "      <td>1</td>\n",
       "      <td>ad.</td>\n",
       "    </tr>\n",
       "    <tr>\n",
       "      <th>3</th>\n",
       "      <td>60</td>\n",
       "      <td>468</td>\n",
       "      <td>7.8</td>\n",
       "      <td>1</td>\n",
       "      <td>ad.</td>\n",
       "    </tr>\n",
       "    <tr>\n",
       "      <th>4</th>\n",
       "      <td>60</td>\n",
       "      <td>468</td>\n",
       "      <td>7.8</td>\n",
       "      <td>1</td>\n",
       "      <td>ad.</td>\n",
       "    </tr>\n",
       "    <tr>\n",
       "      <th>...</th>\n",
       "      <td>...</td>\n",
       "      <td>...</td>\n",
       "      <td>...</td>\n",
       "      <td>...</td>\n",
       "      <td>...</td>\n",
       "    </tr>\n",
       "    <tr>\n",
       "      <th>3274</th>\n",
       "      <td>170</td>\n",
       "      <td>94</td>\n",
       "      <td>0.5529</td>\n",
       "      <td>0</td>\n",
       "      <td>nonad.</td>\n",
       "    </tr>\n",
       "    <tr>\n",
       "      <th>3275</th>\n",
       "      <td>101</td>\n",
       "      <td>140</td>\n",
       "      <td>1.3861</td>\n",
       "      <td>1</td>\n",
       "      <td>nonad.</td>\n",
       "    </tr>\n",
       "    <tr>\n",
       "      <th>3276</th>\n",
       "      <td>23</td>\n",
       "      <td>120</td>\n",
       "      <td>5.2173</td>\n",
       "      <td>1</td>\n",
       "      <td>nonad.</td>\n",
       "    </tr>\n",
       "    <tr>\n",
       "      <th>3277</th>\n",
       "      <td>?</td>\n",
       "      <td>?</td>\n",
       "      <td>?</td>\n",
       "      <td>1</td>\n",
       "      <td>nonad.</td>\n",
       "    </tr>\n",
       "    <tr>\n",
       "      <th>3278</th>\n",
       "      <td>40</td>\n",
       "      <td>40</td>\n",
       "      <td>1</td>\n",
       "      <td>1</td>\n",
       "      <td>nonad.</td>\n",
       "    </tr>\n",
       "  </tbody>\n",
       "</table>\n",
       "<p>3279 rows × 5 columns</p>\n",
       "</div>"
      ],
      "text/plain": [
       "     height width ratio(width/height) local ad status\n",
       "0       125   125                   1     1       ad.\n",
       "1        57   468              8.2105     1       ad.\n",
       "2        33   230              6.9696     1       ad.\n",
       "3        60   468                 7.8     1       ad.\n",
       "4        60   468                 7.8     1       ad.\n",
       "...     ...   ...                 ...   ...       ...\n",
       "3274    170    94              0.5529     0    nonad.\n",
       "3275    101   140              1.3861     1    nonad.\n",
       "3276     23   120              5.2173     1    nonad.\n",
       "3277      ?     ?                   ?     1    nonad.\n",
       "3278     40    40                   1     1    nonad.\n",
       "\n",
       "[3279 rows x 5 columns]"
      ]
     },
     "execution_count": 5,
     "metadata": {},
     "output_type": "execute_result"
    }
   ],
   "source": [
    "# dropping useless columns\n",
    "df.drop(df.iloc[:, 4:1558], inplace=True, axis=1)\n",
    "df"
   ]
  },
  {
   "cell_type": "code",
   "execution_count": 6,
   "id": "ca50dcd7",
   "metadata": {},
   "outputs": [
    {
     "data": {
      "text/html": [
       "<div>\n",
       "<style scoped>\n",
       "    .dataframe tbody tr th:only-of-type {\n",
       "        vertical-align: middle;\n",
       "    }\n",
       "\n",
       "    .dataframe tbody tr th {\n",
       "        vertical-align: top;\n",
       "    }\n",
       "\n",
       "    .dataframe thead th {\n",
       "        text-align: right;\n",
       "    }\n",
       "</style>\n",
       "<table border=\"1\" class=\"dataframe\">\n",
       "  <thead>\n",
       "    <tr style=\"text-align: right;\">\n",
       "      <th></th>\n",
       "      <th>height</th>\n",
       "      <th>width</th>\n",
       "      <th>ratio(width/height)</th>\n",
       "      <th>local</th>\n",
       "      <th>ad status</th>\n",
       "    </tr>\n",
       "  </thead>\n",
       "  <tbody>\n",
       "    <tr>\n",
       "      <th>0</th>\n",
       "      <td>False</td>\n",
       "      <td>False</td>\n",
       "      <td>False</td>\n",
       "      <td>False</td>\n",
       "      <td>False</td>\n",
       "    </tr>\n",
       "    <tr>\n",
       "      <th>1</th>\n",
       "      <td>False</td>\n",
       "      <td>False</td>\n",
       "      <td>False</td>\n",
       "      <td>False</td>\n",
       "      <td>False</td>\n",
       "    </tr>\n",
       "    <tr>\n",
       "      <th>2</th>\n",
       "      <td>False</td>\n",
       "      <td>False</td>\n",
       "      <td>False</td>\n",
       "      <td>False</td>\n",
       "      <td>False</td>\n",
       "    </tr>\n",
       "    <tr>\n",
       "      <th>3</th>\n",
       "      <td>False</td>\n",
       "      <td>False</td>\n",
       "      <td>False</td>\n",
       "      <td>False</td>\n",
       "      <td>False</td>\n",
       "    </tr>\n",
       "    <tr>\n",
       "      <th>4</th>\n",
       "      <td>False</td>\n",
       "      <td>False</td>\n",
       "      <td>False</td>\n",
       "      <td>False</td>\n",
       "      <td>False</td>\n",
       "    </tr>\n",
       "    <tr>\n",
       "      <th>...</th>\n",
       "      <td>...</td>\n",
       "      <td>...</td>\n",
       "      <td>...</td>\n",
       "      <td>...</td>\n",
       "      <td>...</td>\n",
       "    </tr>\n",
       "    <tr>\n",
       "      <th>3274</th>\n",
       "      <td>False</td>\n",
       "      <td>False</td>\n",
       "      <td>False</td>\n",
       "      <td>False</td>\n",
       "      <td>False</td>\n",
       "    </tr>\n",
       "    <tr>\n",
       "      <th>3275</th>\n",
       "      <td>False</td>\n",
       "      <td>False</td>\n",
       "      <td>False</td>\n",
       "      <td>False</td>\n",
       "      <td>False</td>\n",
       "    </tr>\n",
       "    <tr>\n",
       "      <th>3276</th>\n",
       "      <td>False</td>\n",
       "      <td>False</td>\n",
       "      <td>False</td>\n",
       "      <td>False</td>\n",
       "      <td>False</td>\n",
       "    </tr>\n",
       "    <tr>\n",
       "      <th>3277</th>\n",
       "      <td>False</td>\n",
       "      <td>False</td>\n",
       "      <td>False</td>\n",
       "      <td>False</td>\n",
       "      <td>False</td>\n",
       "    </tr>\n",
       "    <tr>\n",
       "      <th>3278</th>\n",
       "      <td>False</td>\n",
       "      <td>False</td>\n",
       "      <td>False</td>\n",
       "      <td>False</td>\n",
       "      <td>False</td>\n",
       "    </tr>\n",
       "  </tbody>\n",
       "</table>\n",
       "<p>3279 rows × 5 columns</p>\n",
       "</div>"
      ],
      "text/plain": [
       "      height  width  ratio(width/height)  local  ad status\n",
       "0      False  False                False  False      False\n",
       "1      False  False                False  False      False\n",
       "2      False  False                False  False      False\n",
       "3      False  False                False  False      False\n",
       "4      False  False                False  False      False\n",
       "...      ...    ...                  ...    ...        ...\n",
       "3274   False  False                False  False      False\n",
       "3275   False  False                False  False      False\n",
       "3276   False  False                False  False      False\n",
       "3277   False  False                False  False      False\n",
       "3278   False  False                False  False      False\n",
       "\n",
       "[3279 rows x 5 columns]"
      ]
     },
     "execution_count": 6,
     "metadata": {},
     "output_type": "execute_result"
    }
   ],
   "source": [
    "# as seen, they're all False because in our dataset, the null/NaN values represented by the \"?\" symbol\n",
    "df.isnull()"
   ]
  },
  {
   "cell_type": "code",
   "execution_count": 7,
   "id": "74d075b1",
   "metadata": {},
   "outputs": [
    {
     "data": {
      "text/plain": [
       "height                 0\n",
       "width                  0\n",
       "ratio(width/height)    0\n",
       "local                  0\n",
       "ad status              0\n",
       "dtype: int64"
      ]
     },
     "execution_count": 7,
     "metadata": {},
     "output_type": "execute_result"
    }
   ],
   "source": [
    "# checking if there is any null/nan value\n",
    "# and showing the counts of null values column by column.\n",
    "df.iloc[:,:].isnull().sum()"
   ]
  },
  {
   "cell_type": "code",
   "execution_count": 8,
   "id": "971e023c",
   "metadata": {},
   "outputs": [
    {
     "data": {
      "text/html": [
       "<div>\n",
       "<style scoped>\n",
       "    .dataframe tbody tr th:only-of-type {\n",
       "        vertical-align: middle;\n",
       "    }\n",
       "\n",
       "    .dataframe tbody tr th {\n",
       "        vertical-align: top;\n",
       "    }\n",
       "\n",
       "    .dataframe thead th {\n",
       "        text-align: right;\n",
       "    }\n",
       "</style>\n",
       "<table border=\"1\" class=\"dataframe\">\n",
       "  <thead>\n",
       "    <tr style=\"text-align: right;\">\n",
       "      <th></th>\n",
       "      <th>height</th>\n",
       "      <th>width</th>\n",
       "      <th>ratio(width/height)</th>\n",
       "      <th>local</th>\n",
       "      <th>ad status</th>\n",
       "    </tr>\n",
       "  </thead>\n",
       "  <tbody>\n",
       "    <tr>\n",
       "      <th>0</th>\n",
       "      <td>125</td>\n",
       "      <td>125</td>\n",
       "      <td>1</td>\n",
       "      <td>1</td>\n",
       "      <td>ad.</td>\n",
       "    </tr>\n",
       "    <tr>\n",
       "      <th>1</th>\n",
       "      <td>57</td>\n",
       "      <td>468</td>\n",
       "      <td>8.2105</td>\n",
       "      <td>1</td>\n",
       "      <td>ad.</td>\n",
       "    </tr>\n",
       "    <tr>\n",
       "      <th>2</th>\n",
       "      <td>33</td>\n",
       "      <td>230</td>\n",
       "      <td>6.9696</td>\n",
       "      <td>1</td>\n",
       "      <td>ad.</td>\n",
       "    </tr>\n",
       "    <tr>\n",
       "      <th>3</th>\n",
       "      <td>60</td>\n",
       "      <td>468</td>\n",
       "      <td>7.8</td>\n",
       "      <td>1</td>\n",
       "      <td>ad.</td>\n",
       "    </tr>\n",
       "    <tr>\n",
       "      <th>4</th>\n",
       "      <td>60</td>\n",
       "      <td>468</td>\n",
       "      <td>7.8</td>\n",
       "      <td>1</td>\n",
       "      <td>ad.</td>\n",
       "    </tr>\n",
       "    <tr>\n",
       "      <th>...</th>\n",
       "      <td>...</td>\n",
       "      <td>...</td>\n",
       "      <td>...</td>\n",
       "      <td>...</td>\n",
       "      <td>...</td>\n",
       "    </tr>\n",
       "    <tr>\n",
       "      <th>3274</th>\n",
       "      <td>170</td>\n",
       "      <td>94</td>\n",
       "      <td>0.5529</td>\n",
       "      <td>0</td>\n",
       "      <td>nonad.</td>\n",
       "    </tr>\n",
       "    <tr>\n",
       "      <th>3275</th>\n",
       "      <td>101</td>\n",
       "      <td>140</td>\n",
       "      <td>1.3861</td>\n",
       "      <td>1</td>\n",
       "      <td>nonad.</td>\n",
       "    </tr>\n",
       "    <tr>\n",
       "      <th>3276</th>\n",
       "      <td>23</td>\n",
       "      <td>120</td>\n",
       "      <td>5.2173</td>\n",
       "      <td>1</td>\n",
       "      <td>nonad.</td>\n",
       "    </tr>\n",
       "    <tr>\n",
       "      <th>3277</th>\n",
       "      <td>NaN</td>\n",
       "      <td>NaN</td>\n",
       "      <td>NaN</td>\n",
       "      <td>1</td>\n",
       "      <td>nonad.</td>\n",
       "    </tr>\n",
       "    <tr>\n",
       "      <th>3278</th>\n",
       "      <td>40</td>\n",
       "      <td>40</td>\n",
       "      <td>1</td>\n",
       "      <td>1</td>\n",
       "      <td>nonad.</td>\n",
       "    </tr>\n",
       "  </tbody>\n",
       "</table>\n",
       "<p>3279 rows × 5 columns</p>\n",
       "</div>"
      ],
      "text/plain": [
       "     height width ratio(width/height) local ad status\n",
       "0       125   125                   1     1       ad.\n",
       "1        57   468              8.2105     1       ad.\n",
       "2        33   230              6.9696     1       ad.\n",
       "3        60   468                 7.8     1       ad.\n",
       "4        60   468                 7.8     1       ad.\n",
       "...     ...   ...                 ...   ...       ...\n",
       "3274    170    94              0.5529     0    nonad.\n",
       "3275    101   140              1.3861     1    nonad.\n",
       "3276     23   120              5.2173     1    nonad.\n",
       "3277    NaN   NaN                 NaN     1    nonad.\n",
       "3278     40    40                   1     1    nonad.\n",
       "\n",
       "[3279 rows x 5 columns]"
      ]
     },
     "execution_count": 8,
     "metadata": {},
     "output_type": "execute_result"
    }
   ],
   "source": [
    "# df.iloc[:, :].replace('?', pd.NA, inplace=True)\n",
    "\n",
    "# replacing ? symbol to NaN values for ease of work\n",
    "dfn = df.applymap(lambda x:np.nan if isinstance(x,str) and '?' in x else x)\n",
    "dfn"
   ]
  },
  {
   "cell_type": "code",
   "execution_count": 9,
   "id": "b12b90c6",
   "metadata": {},
   "outputs": [
    {
     "data": {
      "text/plain": [
       "height                 903\n",
       "width                  901\n",
       "ratio(width/height)    910\n",
       "local                   15\n",
       "ad status                0\n",
       "dtype: int64"
      ]
     },
     "execution_count": 9,
     "metadata": {},
     "output_type": "execute_result"
    }
   ],
   "source": [
    "dfn.isnull().sum()"
   ]
  },
  {
   "cell_type": "code",
   "execution_count": null,
   "id": "c4a4d7df",
   "metadata": {},
   "outputs": [],
   "source": []
  },
  {
   "cell_type": "code",
   "execution_count": 10,
   "id": "a5434990",
   "metadata": {},
   "outputs": [
    {
     "name": "stdout",
     "output_type": "stream",
     "text": [
      "<class 'pandas.core.frame.DataFrame'>\n",
      "RangeIndex: 3279 entries, 0 to 3278\n",
      "Data columns (total 5 columns):\n",
      " #   Column               Non-Null Count  Dtype \n",
      "---  ------               --------------  ----- \n",
      " 0   height               2376 non-null   object\n",
      " 1   width                2378 non-null   object\n",
      " 2   ratio(width/height)  2369 non-null   object\n",
      " 3   local                3264 non-null   object\n",
      " 4   ad status            3279 non-null   object\n",
      "dtypes: object(5)\n",
      "memory usage: 128.2+ KB\n"
     ]
    }
   ],
   "source": [
    "dfn.info()"
   ]
  },
  {
   "cell_type": "code",
   "execution_count": 11,
   "id": "753f45d3",
   "metadata": {},
   "outputs": [],
   "source": [
    "# converting the columns from object datatype to float\n",
    "dfn['height'] = dfn['height'].astype(float)\n",
    "dfn['width'] = dfn['width'].astype(float)\n",
    "dfn['ratio(width/height)'] = dfn['ratio(width/height)'].astype(float)\n",
    "\n",
    "# dfn = dfn.apply(lambda x: x.astype(float) if x.dtype == 'object' else x)"
   ]
  },
  {
   "cell_type": "code",
   "execution_count": 12,
   "id": "ce3cb697",
   "metadata": {},
   "outputs": [
    {
     "name": "stdout",
     "output_type": "stream",
     "text": [
      "<class 'pandas.core.frame.DataFrame'>\n",
      "RangeIndex: 3279 entries, 0 to 3278\n",
      "Data columns (total 5 columns):\n",
      " #   Column               Non-Null Count  Dtype  \n",
      "---  ------               --------------  -----  \n",
      " 0   height               2376 non-null   float64\n",
      " 1   width                2378 non-null   float64\n",
      " 2   ratio(width/height)  2369 non-null   float64\n",
      " 3   local                3264 non-null   object \n",
      " 4   ad status            3279 non-null   object \n",
      "dtypes: float64(3), object(2)\n",
      "memory usage: 128.2+ KB\n"
     ]
    }
   ],
   "source": [
    "dfn.info()"
   ]
  },
  {
   "cell_type": "code",
   "execution_count": null,
   "id": "77361a71",
   "metadata": {},
   "outputs": [],
   "source": []
  },
  {
   "cell_type": "markdown",
   "id": "682f3a2a",
   "metadata": {},
   "source": [
    "<h3>Showing the Relations Between Columns<h3>"
   ]
  },
  {
   "cell_type": "code",
   "execution_count": 13,
   "id": "1f3109c6",
   "metadata": {},
   "outputs": [],
   "source": [
    "# copying dataframe for not effecting our original dataframe \n",
    "dfn_ad_copy = dfn.copy()\n",
    "\n",
    "# replaccing ad. and nonad. values to bit values for correlation application\n",
    "dfn_ad_copy.iloc[:, 4].replace('ad.', 1, inplace=True)\n",
    "dfn_ad_copy.iloc[:, 4].replace('nonad.', 0, inplace=True)"
   ]
  },
  {
   "cell_type": "code",
   "execution_count": 14,
   "id": "f6a721be",
   "metadata": {},
   "outputs": [
    {
     "name": "stdout",
     "output_type": "stream",
     "text": [
      "                       height     width  ratio(width/height)     local  \\\n",
      "height               1.000000  0.181202            -0.285051 -0.188005   \n",
      "width                0.181202  1.000000             0.535732 -0.025645   \n",
      "ratio(width/height) -0.285051  0.535732             1.000000  0.109068   \n",
      "local               -0.188005 -0.025645             0.109068  1.000000   \n",
      "ad status            0.027404  0.570683             0.124462  0.007773   \n",
      "\n",
      "                     ad status  \n",
      "height                0.027404  \n",
      "width                 0.570683  \n",
      "ratio(width/height)   0.124462  \n",
      "local                 0.007773  \n",
      "ad status             1.000000  \n"
     ]
    }
   ],
   "source": [
    "# correlation application\n",
    "correlation_table = dfn_ad_copy.corr()\n",
    "\n",
    "# Print the correlation matrix\n",
    "print(correlation_table)"
   ]
  },
  {
   "cell_type": "code",
   "execution_count": 15,
   "id": "9cbd7825",
   "metadata": {},
   "outputs": [
    {
     "data": {
      "image/png": "[encoded data removed]",
      "text/plain": [
       "<Figure size 1000x800 with 2 Axes>"
      ]
     },
     "metadata": {},
     "output_type": "display_data"
    }
   ],
   "source": [
    "# creates a figure and specifies its size\n",
    "plt.figure(figsize=(10, 8))\n",
    "\n",
    "# annot=True adds numerical values to each cell \n",
    "# cmap='coolwarm' sets the color map,  which ranges from cool colors (blue) for negative correlations to \n",
    "#warm colors (red) for positive correlations\n",
    "# fmt=\".2f\" specifies the format of the numerical values\n",
    "# linewidths=.5 sets the width of the lines between cells\n",
    "sb.heatmap(correlation_table, annot=True, cmap='coolwarm', fmt=\".2f\", linewidths=.5)\n",
    "\n",
    "plt.title('Correlation Matrix')\n",
    "plt.show()"
   ]
  },
  {
   "cell_type": "code",
   "execution_count": null,
   "id": "a806c0d1",
   "metadata": {},
   "outputs": [],
   "source": []
  },
  {
   "cell_type": "markdown",
   "id": "11b4f6ba",
   "metadata": {},
   "source": [
    "<h3>Filling Missing Values<h3>"
   ]
  },
  {
   "cell_type": "code",
   "execution_count": 16,
   "id": "bb96b607",
   "metadata": {
    "scrolled": true
   },
   "outputs": [
    {
     "name": "stdout",
     "output_type": "stream",
     "text": [
      "[ 51.    110.      2.102]\n",
      "\n",
      "İstatistikler - Eksik değerleri medyan ile doldurmuş veri seti:\n"
     ]
    },
    {
     "data": {
      "text/html": [
       "<div>\n",
       "<style scoped>\n",
       "    .dataframe tbody tr th:only-of-type {\n",
       "        vertical-align: middle;\n",
       "    }\n",
       "\n",
       "    .dataframe tbody tr th {\n",
       "        vertical-align: top;\n",
       "    }\n",
       "\n",
       "    .dataframe thead th {\n",
       "        text-align: right;\n",
       "    }\n",
       "</style>\n",
       "<table border=\"1\" class=\"dataframe\">\n",
       "  <thead>\n",
       "    <tr style=\"text-align: right;\">\n",
       "      <th></th>\n",
       "      <th>height</th>\n",
       "      <th>width</th>\n",
       "      <th>ratio(width/height)</th>\n",
       "    </tr>\n",
       "  </thead>\n",
       "  <tbody>\n",
       "    <tr>\n",
       "      <th>count</th>\n",
       "      <td>3279.000000</td>\n",
       "      <td>3279.000000</td>\n",
       "      <td>3279.000000</td>\n",
       "    </tr>\n",
       "    <tr>\n",
       "      <th>mean</th>\n",
       "      <td>60.435804</td>\n",
       "      <td>142.885026</td>\n",
       "      <td>3.409648</td>\n",
       "    </tr>\n",
       "    <tr>\n",
       "      <th>std</th>\n",
       "      <td>47.064669</td>\n",
       "      <td>112.564585</td>\n",
       "      <td>5.199722</td>\n",
       "    </tr>\n",
       "    <tr>\n",
       "      <th>min</th>\n",
       "      <td>1.000000</td>\n",
       "      <td>1.000000</td>\n",
       "      <td>0.001500</td>\n",
       "    </tr>\n",
       "    <tr>\n",
       "      <th>25%</th>\n",
       "      <td>32.500000</td>\n",
       "      <td>90.000000</td>\n",
       "      <td>1.279400</td>\n",
       "    </tr>\n",
       "    <tr>\n",
       "      <th>50%</th>\n",
       "      <td>51.000000</td>\n",
       "      <td>110.000000</td>\n",
       "      <td>2.102000</td>\n",
       "    </tr>\n",
       "    <tr>\n",
       "      <th>75%</th>\n",
       "      <td>61.000000</td>\n",
       "      <td>144.000000</td>\n",
       "      <td>3.900000</td>\n",
       "    </tr>\n",
       "    <tr>\n",
       "      <th>max</th>\n",
       "      <td>640.000000</td>\n",
       "      <td>640.000000</td>\n",
       "      <td>60.000000</td>\n",
       "    </tr>\n",
       "  </tbody>\n",
       "</table>\n",
       "</div>"
      ],
      "text/plain": [
       "            height        width  ratio(width/height)\n",
       "count  3279.000000  3279.000000          3279.000000\n",
       "mean     60.435804   142.885026             3.409648\n",
       "std      47.064669   112.564585             5.199722\n",
       "min       1.000000     1.000000             0.001500\n",
       "25%      32.500000    90.000000             1.279400\n",
       "50%      51.000000   110.000000             2.102000\n",
       "75%      61.000000   144.000000             3.900000\n",
       "max     640.000000   640.000000            60.000000"
      ]
     },
     "execution_count": 16,
     "metadata": {},
     "output_type": "execute_result"
    }
   ],
   "source": [
    "# Make a copy of the DataFrame\n",
    "dfcopy = dfn.copy()\n",
    "\n",
    "# Converting DataFrame to a numpy array\n",
    "dfcopy_array = dfcopy.iloc[:, 0:3].values\n",
    "\n",
    "# Calculating the median ignoring missing values\n",
    "column_nanmedian = np.nanmedian(dfcopy_array, axis=0)\n",
    "print(column_nanmedian)\n",
    "\n",
    "# Filling missing values with the median\n",
    "dfcopy.fillna({\"height\": column_nanmedian[0], \n",
    "               \"width\": column_nanmedian[1], \n",
    "               \"ratio(width/height)\": column_nanmedian[2]},\n",
    "               inplace=True)\n",
    "\n",
    "# Printing statistics\n",
    "print(\"\\nİstatistikler - Eksik değerleri medyan ile doldurmuş veri seti:\")\n",
    "dfcopy.describe()"
   ]
  },
  {
   "cell_type": "code",
   "execution_count": 17,
   "id": "dc2e5616",
   "metadata": {},
   "outputs": [
    {
     "name": "stdout",
     "output_type": "stream",
     "text": [
      "[ 64.02188552 155.34482759   3.91195251]\n"
     ]
    }
   ],
   "source": [
    "# converting dataframe to a numpy array\n",
    "dfn_array = dfn.iloc[:, 0:3].values\n",
    "\n",
    "# calculating the mean ignoring missing values\n",
    "column_nanmeans = np.nanmean(dfn_array, axis=0)\n",
    "print(column_nanmeans)\n",
    "\n",
    "# filling the nan values with the calculated mean\n",
    "dfn.fillna({\"height\": column_nanmeans[0], \n",
    "            \"width\": column_nanmeans[1], \n",
    "            \"ratio(width/height)\": column_nanmeans[2]},\n",
    "            inplace=True)\n",
    "\n",
    "# this line of code makes the same thing with just one line\n",
    "# dfn.iloc[:,0:3] = dfn.iloc[:,0:3].fillna(dfn.iloc[:,0:3].dropna().mean())"
   ]
  },
  {
   "cell_type": "markdown",
   "id": "e16f870e",
   "metadata": {},
   "source": [
    "<h3>Difference between filling dataframe's null values with mean and median values<h3>"
   ]
  },
  {
   "cell_type": "code",
   "execution_count": 55,
   "id": "557f363b",
   "metadata": {},
   "outputs": [
    {
     "data": {
      "image/png": "[encoded data removed]",
      "text/plain": [
       "<Figure size 1500x600 with 3 Axes>"
      ]
     },
     "metadata": {},
     "output_type": "display_data"
    }
   ],
   "source": [
    "plt.figure(figsize=(15, 6))\n",
    "\n",
    "# for Height \n",
    "plt.subplot(1, 3, 1)\n",
    "plt.hist(dfn.iloc[:, 0], bins=20, alpha=0.5, color='blue', label='filled with calculated mean')\n",
    "plt.hist(dfcopy.iloc[:, 0], bins=20, alpha=0.5, color='red', label='filled with calculated median')\n",
    "plt.xlabel('Height')\n",
    "plt.ylabel('Value')\n",
    "plt.title('Histogram Graph for Height Column')\n",
    "plt.legend()\n",
    "\n",
    "# for Width \n",
    "plt.subplot(1, 3, 2)\n",
    "plt.hist(dfn.iloc[:, 1], bins=20, alpha=0.5, color='red', label='filled with calculated mean')\n",
    "plt.hist(dfcopy.iloc[:, 1], bins=20, alpha=0.5, color='orange', label='filled with calculated median')\n",
    "plt.xlabel('Width')\n",
    "plt.ylabel('Value')\n",
    "plt.title('Histogram Graph for Width Column')\n",
    "plt.legend()\n",
    "\n",
    "# for Ratio \n",
    "plt.subplot(1, 3, 3)\n",
    "plt.hist(dfn.iloc[:, 2], bins=20, alpha=0.5, color='blue', label='filled with calculated mean')\n",
    "plt.hist(dfcopy.iloc[:, 2], bins=20, alpha=0.5, color='pink', label='filled with calculated median')\n",
    "plt.xlabel('Ratio(width/height)')\n",
    "plt.ylabel('Value')\n",
    "plt.title('Histogram Graph for Ratio Column')\n",
    "plt.legend()\n",
    "\n",
    "plt.tight_layout()\n",
    "plt.show()\n",
    "\n",
    "# Medyan ile doldurulduğunda belirli değerler çok fazla tekrar ediyor görünüyor. Ortalama ile doldurulduğunda daha stabil\n",
    "# ilerleyen verilerle çalışabileceğimizi düşündüğümüz için veri setimizin bu yönde manipüle edilmiş halini kullanacağız."
   ]
  },
  {
   "cell_type": "code",
   "execution_count": null,
   "id": "8c39a7dd",
   "metadata": {},
   "outputs": [],
   "source": []
  },
  {
   "cell_type": "code",
   "execution_count": 19,
   "id": "d68bb518",
   "metadata": {},
   "outputs": [
    {
     "data": {
      "text/plain": [
       "height                  0\n",
       "width                   0\n",
       "ratio(width/height)     0\n",
       "local                  15\n",
       "ad status               0\n",
       "dtype: int64"
      ]
     },
     "execution_count": 19,
     "metadata": {},
     "output_type": "execute_result"
    }
   ],
   "source": [
    "dfn.isnull().sum()"
   ]
  },
  {
   "cell_type": "code",
   "execution_count": 20,
   "id": "d49ca855",
   "metadata": {},
   "outputs": [
    {
     "data": {
      "text/html": [
       "<div>\n",
       "<style scoped>\n",
       "    .dataframe tbody tr th:only-of-type {\n",
       "        vertical-align: middle;\n",
       "    }\n",
       "\n",
       "    .dataframe tbody tr th {\n",
       "        vertical-align: top;\n",
       "    }\n",
       "\n",
       "    .dataframe thead th {\n",
       "        text-align: right;\n",
       "    }\n",
       "</style>\n",
       "<table border=\"1\" class=\"dataframe\">\n",
       "  <thead>\n",
       "    <tr style=\"text-align: right;\">\n",
       "      <th></th>\n",
       "      <th>height</th>\n",
       "      <th>width</th>\n",
       "      <th>ratio(width/height)</th>\n",
       "      <th>local</th>\n",
       "      <th>ad status</th>\n",
       "    </tr>\n",
       "  </thead>\n",
       "  <tbody>\n",
       "    <tr>\n",
       "      <th>0</th>\n",
       "      <td>125.000000</td>\n",
       "      <td>125.000000</td>\n",
       "      <td>1.000000</td>\n",
       "      <td>1</td>\n",
       "      <td>ad.</td>\n",
       "    </tr>\n",
       "    <tr>\n",
       "      <th>1</th>\n",
       "      <td>57.000000</td>\n",
       "      <td>468.000000</td>\n",
       "      <td>8.210500</td>\n",
       "      <td>1</td>\n",
       "      <td>ad.</td>\n",
       "    </tr>\n",
       "    <tr>\n",
       "      <th>2</th>\n",
       "      <td>33.000000</td>\n",
       "      <td>230.000000</td>\n",
       "      <td>6.969600</td>\n",
       "      <td>1</td>\n",
       "      <td>ad.</td>\n",
       "    </tr>\n",
       "    <tr>\n",
       "      <th>3</th>\n",
       "      <td>60.000000</td>\n",
       "      <td>468.000000</td>\n",
       "      <td>7.800000</td>\n",
       "      <td>1</td>\n",
       "      <td>ad.</td>\n",
       "    </tr>\n",
       "    <tr>\n",
       "      <th>4</th>\n",
       "      <td>60.000000</td>\n",
       "      <td>468.000000</td>\n",
       "      <td>7.800000</td>\n",
       "      <td>1</td>\n",
       "      <td>ad.</td>\n",
       "    </tr>\n",
       "    <tr>\n",
       "      <th>...</th>\n",
       "      <td>...</td>\n",
       "      <td>...</td>\n",
       "      <td>...</td>\n",
       "      <td>...</td>\n",
       "      <td>...</td>\n",
       "    </tr>\n",
       "    <tr>\n",
       "      <th>3274</th>\n",
       "      <td>170.000000</td>\n",
       "      <td>94.000000</td>\n",
       "      <td>0.552900</td>\n",
       "      <td>0</td>\n",
       "      <td>nonad.</td>\n",
       "    </tr>\n",
       "    <tr>\n",
       "      <th>3275</th>\n",
       "      <td>101.000000</td>\n",
       "      <td>140.000000</td>\n",
       "      <td>1.386100</td>\n",
       "      <td>1</td>\n",
       "      <td>nonad.</td>\n",
       "    </tr>\n",
       "    <tr>\n",
       "      <th>3276</th>\n",
       "      <td>23.000000</td>\n",
       "      <td>120.000000</td>\n",
       "      <td>5.217300</td>\n",
       "      <td>1</td>\n",
       "      <td>nonad.</td>\n",
       "    </tr>\n",
       "    <tr>\n",
       "      <th>3277</th>\n",
       "      <td>64.021886</td>\n",
       "      <td>155.344828</td>\n",
       "      <td>3.911953</td>\n",
       "      <td>1</td>\n",
       "      <td>nonad.</td>\n",
       "    </tr>\n",
       "    <tr>\n",
       "      <th>3278</th>\n",
       "      <td>40.000000</td>\n",
       "      <td>40.000000</td>\n",
       "      <td>1.000000</td>\n",
       "      <td>1</td>\n",
       "      <td>nonad.</td>\n",
       "    </tr>\n",
       "  </tbody>\n",
       "</table>\n",
       "<p>3264 rows × 5 columns</p>\n",
       "</div>"
      ],
      "text/plain": [
       "          height       width  ratio(width/height) local ad status\n",
       "0     125.000000  125.000000             1.000000     1       ad.\n",
       "1      57.000000  468.000000             8.210500     1       ad.\n",
       "2      33.000000  230.000000             6.969600     1       ad.\n",
       "3      60.000000  468.000000             7.800000     1       ad.\n",
       "4      60.000000  468.000000             7.800000     1       ad.\n",
       "...          ...         ...                  ...   ...       ...\n",
       "3274  170.000000   94.000000             0.552900     0    nonad.\n",
       "3275  101.000000  140.000000             1.386100     1    nonad.\n",
       "3276   23.000000  120.000000             5.217300     1    nonad.\n",
       "3277   64.021886  155.344828             3.911953     1    nonad.\n",
       "3278   40.000000   40.000000             1.000000     1    nonad.\n",
       "\n",
       "[3264 rows x 5 columns]"
      ]
     },
     "execution_count": 20,
     "metadata": {},
     "output_type": "execute_result"
    }
   ],
   "source": [
    "# removing the remaining empty values from the data set\n",
    "dfn.dropna(inplace=True)\n",
    "dfn"
   ]
  },
  {
   "cell_type": "code",
   "execution_count": 21,
   "id": "357d3b0c",
   "metadata": {},
   "outputs": [
    {
     "data": {
      "text/plain": [
       "0       False\n",
       "1       False\n",
       "2       False\n",
       "3       False\n",
       "4        True\n",
       "        ...  \n",
       "3274    False\n",
       "3275    False\n",
       "3276    False\n",
       "3277     True\n",
       "3278     True\n",
       "Length: 3264, dtype: bool"
      ]
     },
     "execution_count": 21,
     "metadata": {},
     "output_type": "execute_result"
    }
   ],
   "source": [
    "# checking if there is repeated data\n",
    "dfn.duplicated()"
   ]
  },
  {
   "cell_type": "code",
   "execution_count": 22,
   "id": "6afc9139",
   "metadata": {},
   "outputs": [
    {
     "data": {
      "text/html": [
       "<div>\n",
       "<style scoped>\n",
       "    .dataframe tbody tr th:only-of-type {\n",
       "        vertical-align: middle;\n",
       "    }\n",
       "\n",
       "    .dataframe tbody tr th {\n",
       "        vertical-align: top;\n",
       "    }\n",
       "\n",
       "    .dataframe thead th {\n",
       "        text-align: right;\n",
       "    }\n",
       "</style>\n",
       "<table border=\"1\" class=\"dataframe\">\n",
       "  <thead>\n",
       "    <tr style=\"text-align: right;\">\n",
       "      <th></th>\n",
       "      <th>height</th>\n",
       "      <th>width</th>\n",
       "      <th>ratio(width/height)</th>\n",
       "      <th>local</th>\n",
       "      <th>ad status</th>\n",
       "    </tr>\n",
       "  </thead>\n",
       "  <tbody>\n",
       "    <tr>\n",
       "      <th>0</th>\n",
       "      <td>125.0</td>\n",
       "      <td>125.0</td>\n",
       "      <td>1.0000</td>\n",
       "      <td>1</td>\n",
       "      <td>ad.</td>\n",
       "    </tr>\n",
       "    <tr>\n",
       "      <th>1</th>\n",
       "      <td>57.0</td>\n",
       "      <td>468.0</td>\n",
       "      <td>8.2105</td>\n",
       "      <td>1</td>\n",
       "      <td>ad.</td>\n",
       "    </tr>\n",
       "    <tr>\n",
       "      <th>2</th>\n",
       "      <td>33.0</td>\n",
       "      <td>230.0</td>\n",
       "      <td>6.9696</td>\n",
       "      <td>1</td>\n",
       "      <td>ad.</td>\n",
       "    </tr>\n",
       "    <tr>\n",
       "      <th>3</th>\n",
       "      <td>60.0</td>\n",
       "      <td>468.0</td>\n",
       "      <td>7.8000</td>\n",
       "      <td>1</td>\n",
       "      <td>ad.</td>\n",
       "    </tr>\n",
       "    <tr>\n",
       "      <th>6</th>\n",
       "      <td>59.0</td>\n",
       "      <td>460.0</td>\n",
       "      <td>7.7966</td>\n",
       "      <td>1</td>\n",
       "      <td>ad.</td>\n",
       "    </tr>\n",
       "    <tr>\n",
       "      <th>...</th>\n",
       "      <td>...</td>\n",
       "      <td>...</td>\n",
       "      <td>...</td>\n",
       "      <td>...</td>\n",
       "      <td>...</td>\n",
       "    </tr>\n",
       "    <tr>\n",
       "      <th>3272</th>\n",
       "      <td>106.0</td>\n",
       "      <td>110.0</td>\n",
       "      <td>1.0377</td>\n",
       "      <td>1</td>\n",
       "      <td>nonad.</td>\n",
       "    </tr>\n",
       "    <tr>\n",
       "      <th>3273</th>\n",
       "      <td>30.0</td>\n",
       "      <td>30.0</td>\n",
       "      <td>1.0000</td>\n",
       "      <td>0</td>\n",
       "      <td>nonad.</td>\n",
       "    </tr>\n",
       "    <tr>\n",
       "      <th>3274</th>\n",
       "      <td>170.0</td>\n",
       "      <td>94.0</td>\n",
       "      <td>0.5529</td>\n",
       "      <td>0</td>\n",
       "      <td>nonad.</td>\n",
       "    </tr>\n",
       "    <tr>\n",
       "      <th>3275</th>\n",
       "      <td>101.0</td>\n",
       "      <td>140.0</td>\n",
       "      <td>1.3861</td>\n",
       "      <td>1</td>\n",
       "      <td>nonad.</td>\n",
       "    </tr>\n",
       "    <tr>\n",
       "      <th>3276</th>\n",
       "      <td>23.0</td>\n",
       "      <td>120.0</td>\n",
       "      <td>5.2173</td>\n",
       "      <td>1</td>\n",
       "      <td>nonad.</td>\n",
       "    </tr>\n",
       "  </tbody>\n",
       "</table>\n",
       "<p>1146 rows × 5 columns</p>\n",
       "</div>"
      ],
      "text/plain": [
       "      height  width  ratio(width/height) local ad status\n",
       "0      125.0  125.0               1.0000     1       ad.\n",
       "1       57.0  468.0               8.2105     1       ad.\n",
       "2       33.0  230.0               6.9696     1       ad.\n",
       "3       60.0  468.0               7.8000     1       ad.\n",
       "6       59.0  460.0               7.7966     1       ad.\n",
       "...      ...    ...                  ...   ...       ...\n",
       "3272   106.0  110.0               1.0377     1    nonad.\n",
       "3273    30.0   30.0               1.0000     0    nonad.\n",
       "3274   170.0   94.0               0.5529     0    nonad.\n",
       "3275   101.0  140.0               1.3861     1    nonad.\n",
       "3276    23.0  120.0               5.2173     1    nonad.\n",
       "\n",
       "[1146 rows x 5 columns]"
      ]
     },
     "execution_count": 22,
     "metadata": {},
     "output_type": "execute_result"
    }
   ],
   "source": [
    "# removing repeated data\n",
    "dfn.drop_duplicates(inplace=True)\n",
    "dfn"
   ]
  },
  {
   "cell_type": "code",
   "execution_count": 23,
   "id": "0af5d405",
   "metadata": {},
   "outputs": [
    {
     "data": {
      "text/html": [
       "<div>\n",
       "<style scoped>\n",
       "    .dataframe tbody tr th:only-of-type {\n",
       "        vertical-align: middle;\n",
       "    }\n",
       "\n",
       "    .dataframe tbody tr th {\n",
       "        vertical-align: top;\n",
       "    }\n",
       "\n",
       "    .dataframe thead th {\n",
       "        text-align: right;\n",
       "    }\n",
       "</style>\n",
       "<table border=\"1\" class=\"dataframe\">\n",
       "  <thead>\n",
       "    <tr style=\"text-align: right;\">\n",
       "      <th></th>\n",
       "      <th>height</th>\n",
       "      <th>width</th>\n",
       "      <th>ratio(width/height)</th>\n",
       "      <th>local</th>\n",
       "      <th>ad status</th>\n",
       "    </tr>\n",
       "  </thead>\n",
       "  <tbody>\n",
       "    <tr>\n",
       "      <th>0</th>\n",
       "      <td>125.0</td>\n",
       "      <td>125.0</td>\n",
       "      <td>1.0000</td>\n",
       "      <td>1</td>\n",
       "      <td>ad.</td>\n",
       "    </tr>\n",
       "    <tr>\n",
       "      <th>1</th>\n",
       "      <td>57.0</td>\n",
       "      <td>468.0</td>\n",
       "      <td>8.2105</td>\n",
       "      <td>1</td>\n",
       "      <td>ad.</td>\n",
       "    </tr>\n",
       "    <tr>\n",
       "      <th>2</th>\n",
       "      <td>33.0</td>\n",
       "      <td>230.0</td>\n",
       "      <td>6.9696</td>\n",
       "      <td>1</td>\n",
       "      <td>ad.</td>\n",
       "    </tr>\n",
       "    <tr>\n",
       "      <th>3</th>\n",
       "      <td>60.0</td>\n",
       "      <td>468.0</td>\n",
       "      <td>7.8000</td>\n",
       "      <td>1</td>\n",
       "      <td>ad.</td>\n",
       "    </tr>\n",
       "    <tr>\n",
       "      <th>4</th>\n",
       "      <td>59.0</td>\n",
       "      <td>460.0</td>\n",
       "      <td>7.7966</td>\n",
       "      <td>1</td>\n",
       "      <td>ad.</td>\n",
       "    </tr>\n",
       "    <tr>\n",
       "      <th>...</th>\n",
       "      <td>...</td>\n",
       "      <td>...</td>\n",
       "      <td>...</td>\n",
       "      <td>...</td>\n",
       "      <td>...</td>\n",
       "    </tr>\n",
       "    <tr>\n",
       "      <th>1141</th>\n",
       "      <td>106.0</td>\n",
       "      <td>110.0</td>\n",
       "      <td>1.0377</td>\n",
       "      <td>1</td>\n",
       "      <td>nonad.</td>\n",
       "    </tr>\n",
       "    <tr>\n",
       "      <th>1142</th>\n",
       "      <td>30.0</td>\n",
       "      <td>30.0</td>\n",
       "      <td>1.0000</td>\n",
       "      <td>0</td>\n",
       "      <td>nonad.</td>\n",
       "    </tr>\n",
       "    <tr>\n",
       "      <th>1143</th>\n",
       "      <td>170.0</td>\n",
       "      <td>94.0</td>\n",
       "      <td>0.5529</td>\n",
       "      <td>0</td>\n",
       "      <td>nonad.</td>\n",
       "    </tr>\n",
       "    <tr>\n",
       "      <th>1144</th>\n",
       "      <td>101.0</td>\n",
       "      <td>140.0</td>\n",
       "      <td>1.3861</td>\n",
       "      <td>1</td>\n",
       "      <td>nonad.</td>\n",
       "    </tr>\n",
       "    <tr>\n",
       "      <th>1145</th>\n",
       "      <td>23.0</td>\n",
       "      <td>120.0</td>\n",
       "      <td>5.2173</td>\n",
       "      <td>1</td>\n",
       "      <td>nonad.</td>\n",
       "    </tr>\n",
       "  </tbody>\n",
       "</table>\n",
       "<p>1146 rows × 5 columns</p>\n",
       "</div>"
      ],
      "text/plain": [
       "      height  width  ratio(width/height) local ad status\n",
       "0      125.0  125.0               1.0000     1       ad.\n",
       "1       57.0  468.0               8.2105     1       ad.\n",
       "2       33.0  230.0               6.9696     1       ad.\n",
       "3       60.0  468.0               7.8000     1       ad.\n",
       "4       59.0  460.0               7.7966     1       ad.\n",
       "...      ...    ...                  ...   ...       ...\n",
       "1141   106.0  110.0               1.0377     1    nonad.\n",
       "1142    30.0   30.0               1.0000     0    nonad.\n",
       "1143   170.0   94.0               0.5529     0    nonad.\n",
       "1144   101.0  140.0               1.3861     1    nonad.\n",
       "1145    23.0  120.0               5.2173     1    nonad.\n",
       "\n",
       "[1146 rows x 5 columns]"
      ]
     },
     "execution_count": 23,
     "metadata": {},
     "output_type": "execute_result"
    }
   ],
   "source": [
    "df1 = dfn.reset_index(drop=True)\n",
    "df1"
   ]
  },
  {
   "cell_type": "code",
   "execution_count": 24,
   "id": "84f55c37",
   "metadata": {},
   "outputs": [
    {
     "data": {
      "text/plain": [
       "height                 0\n",
       "width                  0\n",
       "ratio(width/height)    0\n",
       "local                  0\n",
       "ad status              0\n",
       "dtype: int64"
      ]
     },
     "execution_count": 24,
     "metadata": {},
     "output_type": "execute_result"
    }
   ],
   "source": [
    "df1.isnull().sum()"
   ]
  },
  {
   "cell_type": "code",
   "execution_count": 25,
   "id": "fe6c8b6d",
   "metadata": {},
   "outputs": [
    {
     "name": "stdout",
     "output_type": "stream",
     "text": [
      "<class 'pandas.core.frame.DataFrame'>\n",
      "RangeIndex: 1146 entries, 0 to 1145\n",
      "Data columns (total 5 columns):\n",
      " #   Column               Non-Null Count  Dtype  \n",
      "---  ------               --------------  -----  \n",
      " 0   height               1146 non-null   float64\n",
      " 1   width                1146 non-null   float64\n",
      " 2   ratio(width/height)  1146 non-null   float64\n",
      " 3   local                1146 non-null   object \n",
      " 4   ad status            1146 non-null   object \n",
      "dtypes: float64(3), object(2)\n",
      "memory usage: 44.9+ KB\n"
     ]
    }
   ],
   "source": [
    "df1.info()"
   ]
  },
  {
   "cell_type": "code",
   "execution_count": 26,
   "id": "0d918157",
   "metadata": {},
   "outputs": [
    {
     "name": "stdout",
     "output_type": "stream",
     "text": [
      "                                  Column        Mean    Mod    Median\n",
      "height                            height   79.493287   60.0   61.5000\n",
      "width                              width  143.307546  150.0  120.0000\n",
      "ratio(width/height)  ratio(width/height)    2.921927    1.0    1.5568\n"
     ]
    }
   ],
   "source": [
    "# To get the mean, mode, and median values of specific columns\n",
    "descriptive_stats = df1.iloc[:, 0:3]\n",
    "statistics_df1 = pd.DataFrame({\n",
    "    'Column': descriptive_stats.columns,\n",
    "    'Mean': descriptive_stats.mean(),\n",
    "    'Mod': descriptive_stats.mode().iloc[0],\n",
    "    'Median': descriptive_stats.median()\n",
    "})\n",
    "\n",
    "print(statistics_df1)"
   ]
  },
  {
   "cell_type": "code",
   "execution_count": null,
   "id": "2b1c21ed",
   "metadata": {},
   "outputs": [],
   "source": []
  },
  {
   "cell_type": "markdown",
   "id": "eb87cd37",
   "metadata": {},
   "source": [
    "<h3>GRAPHICAL METHODS AND STATISTICAL TESTS FOR WIDTH COLUMN<h3>"
   ]
  },
  {
   "cell_type": "code",
   "execution_count": 27,
   "id": "4141e929",
   "metadata": {},
   "outputs": [],
   "source": [
    "# for width column \n",
    "# using Histogram graph, Q-Q plot graph, K2 test and Z test "
   ]
  },
  {
   "cell_type": "code",
   "execution_count": 28,
   "id": "66885069",
   "metadata": {},
   "outputs": [
    {
     "data": {
      "text/plain": [
       "0       125.0\n",
       "1       468.0\n",
       "2       230.0\n",
       "3       468.0\n",
       "4       460.0\n",
       "        ...  \n",
       "1141    110.0\n",
       "1142     30.0\n",
       "1143     94.0\n",
       "1144    140.0\n",
       "1145    120.0\n",
       "Name: width, Length: 1146, dtype: float64"
      ]
     },
     "execution_count": 28,
     "metadata": {},
     "output_type": "execute_result"
    }
   ],
   "source": [
    "# second (width) column\n",
    "width = df1.iloc[:, 1]\n",
    "\n",
    "width"
   ]
  },
  {
   "cell_type": "code",
   "execution_count": 29,
   "id": "4aee0cf3",
   "metadata": {},
   "outputs": [
    {
     "data": {
      "text/plain": [
       "Text(0.5, 1.0, 'Histogram Graph for Width Column')"
      ]
     },
     "execution_count": 29,
     "metadata": {},
     "output_type": "execute_result"
    },
    {
     "data": {
      "image/png": "[encoded data removed]",
      "text/plain": [
       "<Figure size 640x480 with 1 Axes>"
      ]
     },
     "metadata": {},
     "output_type": "display_data"
    }
   ],
   "source": [
    "# plotting a histogram graph for width column\n",
    "plt.hist(width)\n",
    "plt.title(\"Histogram Graph for Width Column\")"
   ]
  },
  {
   "cell_type": "code",
   "execution_count": 30,
   "id": "18664c6f",
   "metadata": {},
   "outputs": [
    {
     "data": {
      "text/plain": [
       "Text(0.5, 1.0, 'Q-Q Plot Graph for Width Column')"
      ]
     },
     "execution_count": 30,
     "metadata": {},
     "output_type": "execute_result"
    },
    {
     "data": {
      "image/png": "[encoded data removed]",
      "text/plain": [
       "<Figure size 640x480 with 1 Axes>"
      ]
     },
     "metadata": {},
     "output_type": "display_data"
    }
   ],
   "source": [
    "# plotting a Q-Q graph for width column\n",
    "qqplot(width, line='s')\n",
    "plt.title(\"Q-Q Plot Graph for Width Column\")"
   ]
  },
  {
   "cell_type": "code",
   "execution_count": 31,
   "id": "29890e8b",
   "metadata": {},
   "outputs": [
    {
     "data": {
      "text/plain": [
       "array([125.        ,   2.        , 147.        , 126.        ,\n",
       "       120.        ,  75.        ,  69.        , 200.        ,\n",
       "        43.        , 150.        , 148.        ,  57.        ,\n",
       "        92.        ,  50.        , 110.        ,  75.        ,\n",
       "        46.        ,  93.        , 101.        ,  64.        ,\n",
       "       155.34482759, 200.        ,  75.        , 150.        ,\n",
       "       184.        , 152.        , 139.        ,  64.        ,\n",
       "       156.        , 200.        , 100.        ,  86.        ,\n",
       "       113.        , 151.        , 125.        , 127.        ,\n",
       "        94.        , 110.        ,  15.        ,  90.        ,\n",
       "        37.        , 101.        , 126.        ,  95.        ,\n",
       "        64.        ,  96.        , 156.        ,  50.        ,\n",
       "        11.        , 162.        ,  75.        , 127.        ,\n",
       "        38.        ,  75.        ,  73.        ,  66.        ,\n",
       "       128.        , 200.        ,  56.        , 161.        ,\n",
       "        50.        , 149.        ,  87.        , 133.        ,\n",
       "       179.        , 128.        ,  76.        , 105.        ,\n",
       "        54.        , 200.        ,  75.        , 103.        ,\n",
       "        73.        ,  79.        ,  89.        ,  50.        ,\n",
       "        48.        ,  47.        ,  38.        ,  67.        ,\n",
       "        62.        ,  96.        , 102.        ,  20.        ,\n",
       "        70.        ,  90.        ,  80.        ,  61.        ,\n",
       "        55.        ,  34.        ,  81.        ,  83.        ,\n",
       "       104.        ,  58.        ,  92.        , 104.        ,\n",
       "        90.        , 101.        , 108.        ,  65.        ,\n",
       "       119.        , 143.        , 120.        ,  16.        ,\n",
       "       150.        , 110.        ,  50.        ,  45.        ,\n",
       "       150.        , 150.        , 126.        ,  55.        ,\n",
       "        65.        , 110.        , 124.        ,  70.        ,\n",
       "       180.        , 125.        ,  65.        , 140.        ,\n",
       "       100.        ,  96.        ,  80.        ,  15.        ,\n",
       "        60.        ,  86.        , 124.        , 110.        ,\n",
       "       100.        , 149.        ,  88.        ,  80.        ,\n",
       "       100.        ,  49.        , 129.        , 186.        ,\n",
       "       175.        , 105.        ,  57.        ,  82.        ,\n",
       "        70.        , 178.        , 100.        ,  35.        ,\n",
       "       126.        , 120.        , 100.        , 110.        ,\n",
       "       120.        , 139.        ,  88.        ,  84.        ,\n",
       "       109.        , 136.        ,  55.        , 132.        ,\n",
       "       108.        , 100.        ,  85.        , 100.        ,\n",
       "        88.        ,  84.        , 150.        , 110.        ,\n",
       "       161.        ,  95.        ,  64.        , 170.        ,\n",
       "       110.        , 180.        , 101.        ,  82.        ,\n",
       "       200.        , 100.        , 109.        , 110.        ,\n",
       "       150.        ,  70.        ,  37.        ,  90.        ,\n",
       "       115.        , 178.        ,  85.        ,  87.        ,\n",
       "       192.        , 120.        ])"
      ]
     },
     "execution_count": 31,
     "metadata": {},
     "output_type": "execute_result"
    }
   ],
   "source": [
    "# selecting a sample from the width column where the index increases by five each time\n",
    "#sistematik basit rastgele örnekleme\n",
    "stride = 5\n",
    "sample_indices = range(0, len(width), stride)\n",
    "\n",
    "population = np.array([])\n",
    "# The values of the indices in the created sample are assigned to an empty array if they are less than or equal to 200\n",
    "for i in sample_indices:\n",
    "    if(width.iloc[i] <= 200):\n",
    "        population = np.append(population, width.iloc[i])\n",
    "population # 186 data"
   ]
  },
  {
   "cell_type": "code",
   "execution_count": 32,
   "id": "8c766656",
   "metadata": {},
   "outputs": [
    {
     "data": {
      "text/html": [
       "<div>\n",
       "<style scoped>\n",
       "    .dataframe tbody tr th:only-of-type {\n",
       "        vertical-align: middle;\n",
       "    }\n",
       "\n",
       "    .dataframe tbody tr th {\n",
       "        vertical-align: top;\n",
       "    }\n",
       "\n",
       "    .dataframe thead th {\n",
       "        text-align: right;\n",
       "    }\n",
       "</style>\n",
       "<table border=\"1\" class=\"dataframe\">\n",
       "  <thead>\n",
       "    <tr style=\"text-align: right;\">\n",
       "      <th></th>\n",
       "      <th>0</th>\n",
       "    </tr>\n",
       "  </thead>\n",
       "  <tbody>\n",
       "    <tr>\n",
       "      <th>count</th>\n",
       "      <td>186.000000</td>\n",
       "    </tr>\n",
       "    <tr>\n",
       "      <th>mean</th>\n",
       "      <td>101.501854</td>\n",
       "    </tr>\n",
       "    <tr>\n",
       "      <th>std</th>\n",
       "      <td>43.337364</td>\n",
       "    </tr>\n",
       "    <tr>\n",
       "      <th>min</th>\n",
       "      <td>2.000000</td>\n",
       "    </tr>\n",
       "    <tr>\n",
       "      <th>25%</th>\n",
       "      <td>70.000000</td>\n",
       "    </tr>\n",
       "    <tr>\n",
       "      <th>50%</th>\n",
       "      <td>100.000000</td>\n",
       "    </tr>\n",
       "    <tr>\n",
       "      <th>75%</th>\n",
       "      <td>126.750000</td>\n",
       "    </tr>\n",
       "    <tr>\n",
       "      <th>max</th>\n",
       "      <td>200.000000</td>\n",
       "    </tr>\n",
       "  </tbody>\n",
       "</table>\n",
       "</div>"
      ],
      "text/plain": [
       "                0\n",
       "count  186.000000\n",
       "mean   101.501854\n",
       "std     43.337364\n",
       "min      2.000000\n",
       "25%     70.000000\n",
       "50%    100.000000\n",
       "75%    126.750000\n",
       "max    200.000000"
      ]
     },
     "execution_count": 32,
     "metadata": {},
     "output_type": "execute_result"
    }
   ],
   "source": [
    "# transforming np.array to pd.dataframe to use the pd.describe module\n",
    "temp_p = pd.DataFrame(population)\n",
    "temp_p.describe()"
   ]
  },
  {
   "cell_type": "code",
   "execution_count": 33,
   "id": "65a13a1e",
   "metadata": {},
   "outputs": [
    {
     "data": {
      "text/plain": [
       "Text(0.5, 1.0, 'Histogram Graph for Population')"
      ]
     },
     "execution_count": 33,
     "metadata": {},
     "output_type": "execute_result"
    },
    {
     "data": {
      "image/png": "[encoded data removed]",
      "text/plain": [
       "<Figure size 640x480 with 1 Axes>"
      ]
     },
     "metadata": {},
     "output_type": "display_data"
    }
   ],
   "source": [
    "# plotting a histogram graph for population\n",
    "plt.hist(population)\n",
    "plt.title(\"Histogram Graph for Population\")"
   ]
  },
  {
   "cell_type": "code",
   "execution_count": 34,
   "id": "c7e45cf2",
   "metadata": {},
   "outputs": [
    {
     "data": {
      "text/plain": [
       "Text(0.5, 1.0, 'Q-Q Plot Graph for Population')"
      ]
     },
     "execution_count": 34,
     "metadata": {},
     "output_type": "execute_result"
    },
    {
     "data": {
      "image/png": "[encoded data removed]",
      "text/plain": [
       "<Figure size 640x480 with 1 Axes>"
      ]
     },
     "metadata": {},
     "output_type": "display_data"
    }
   ],
   "source": [
    "# plotting Q-Q graph for population\n",
    "qqplot(population, line='s')\n",
    "plt.title(\"Q-Q Plot Graph for Population\")"
   ]
  },
  {
   "cell_type": "code",
   "execution_count": 35,
   "id": "98f70c2f",
   "metadata": {},
   "outputs": [
    {
     "name": "stdout",
     "output_type": "stream",
     "text": [
      "k2: 3.3714727605772956  p: 0.1853079245984712\n"
     ]
    }
   ],
   "source": [
    "# H0: The data is normally distributed\n",
    "# H1: The data is NOT normally distributed.\n",
    "\n",
    "k2test_value, p_value = sp.normaltest(population)\n",
    "print(\"k2: \" + str(k2test_value) + \"  p: \" + str(p_value))"
   ]
  },
  {
   "cell_type": "code",
   "execution_count": 36,
   "id": "a1ee524a",
   "metadata": {},
   "outputs": [
    {
     "name": "stdout",
     "output_type": "stream",
     "text": [
      "Sıfır hipotezi reddedilemez.\n"
     ]
    }
   ],
   "source": [
    "p = 0.1\n",
    "if(p_value < p):\n",
    "    print(\"Sıfır hipotezi reddedilir.\")\n",
    "else:\n",
    "    print(\"Sıfır hipotezi reddedilemez.\")\n",
    "# if H0 cannot be rejected, it means that the dataset follows a normal distribution."
   ]
  },
  {
   "cell_type": "markdown",
   "id": "8dde7a81",
   "metadata": {},
   "source": [
    "<h3>Z Test Application<h3>"
   ]
  },
  {
   "cell_type": "code",
   "execution_count": 37,
   "id": "001b1a69",
   "metadata": {},
   "outputs": [
    {
     "data": {
      "text/plain": [
       "DescribeResult(nobs=186, minmax=(2.0, 200.0), mean=101.5018539117538, variance=1878.1271071270723, skewness=0.2974644051181648, kurtosis=-0.290482241750329)"
      ]
     },
     "execution_count": 37,
     "metadata": {},
     "output_type": "execute_result"
    }
   ],
   "source": [
    "population_stats = sp.describe(population)\n",
    "population_stats\n",
    "# nobs is the number of items in the dataset"
   ]
  },
  {
   "cell_type": "code",
   "execution_count": 38,
   "id": "2a19b4a9",
   "metadata": {},
   "outputs": [
    {
     "name": "stdout",
     "output_type": "stream",
     "text": [
      "50\n"
     ]
    }
   ],
   "source": [
    "sample = np.array([])\n",
    "# creating a sample by generating random numbers for indices\n",
    "#basit rastgele örnekleme\n",
    "n = 50\n",
    "np.random.seed(50)\n",
    "for i in range(n):\n",
    "    random_number = np.random.randint(0, len(population))\n",
    "    sample = np.append(sample, population[random_number])\n",
    "print(len(sample))"
   ]
  },
  {
   "cell_type": "code",
   "execution_count": 39,
   "id": "3adc8f2f",
   "metadata": {},
   "outputs": [
    {
     "name": "stdout",
     "output_type": "stream",
     "text": [
      "Sample mean: 100.3\n",
      "Population mean: 101.5018539117538\n",
      "Population standard deviation: 43.33736386914959\n",
      "Sample size: 50\n"
     ]
    }
   ],
   "source": [
    "# necessary variables for the z-test if we will not use the function\n",
    "sample_mean = np.mean(sample)\n",
    "population_mean = population_stats[2]\n",
    "population_std = math.sqrt(population_stats[3])\n",
    "sample_size = len(sample)\n",
    "print(\"Sample mean: \" + str(sample_mean) + \"\\n\" +\n",
    "      \"Population mean: \" + str(population_mean) + \"\\n\" +\n",
    "      \"Population standard deviation: \" + str(population_std) + \"\\n\" +\n",
    "      \"Sample size: \" + str(sample_size))"
   ]
  },
  {
   "cell_type": "code",
   "execution_count": 40,
   "id": "2cb7b8d8",
   "metadata": {},
   "outputs": [
    {
     "name": "stdout",
     "output_type": "stream",
     "text": [
      "z: 0.062328810983884465  p: 0.9503009852278792\n"
     ]
    }
   ],
   "source": [
    "# application of the z-test\n",
    "# hypotheses;\n",
    "\n",
    "# Kendi sitesine görsel/reklam eklemek isteyen biri görsellerin genişliğinin ortalama 100 birim olduğunu düşünmektedir.\n",
    "# 50 farklı siteden alınan verilere göre görsel genişliğinin ortalaması 100.3'tür. Buna göre görsellerin genişliğinin \n",
    "# ortalama değeri 101.5 ve standart sapması 43.33 olduğuna göre site sahibinin iddiasının %1 anlamlılık düzeyinde doğru\n",
    "# olup olmadığını belirtelim.\n",
    "# H0: M = 100\n",
    "# H1: M != 100\n",
    "\n",
    "ztest_value, p_value = ztest(sample, value=100, alternative='two-sided')\n",
    "print(\"z: \" + str(ztest_value) + \"  p: \" + str(p_value))"
   ]
  },
  {
   "cell_type": "code",
   "execution_count": 41,
   "id": "e7137347",
   "metadata": {},
   "outputs": [
    {
     "name": "stdout",
     "output_type": "stream",
     "text": [
      "Sıfır hipotezi reddedilemez.\n"
     ]
    }
   ],
   "source": [
    "# explication\n",
    "alfa = 0.01\n",
    "if(p_value < alfa):\n",
    "    print(\"Sıfır hipotezi reddedilir.\")\n",
    "else:\n",
    "    print(\"Sıfır hipotezi reddedilemez.\")\n",
    "# since H0 can NOT be rejected, we can say that the mean of the images is 100 at the 1% significance level"
   ]
  },
  {
   "cell_type": "markdown",
   "id": "ca8d3e63",
   "metadata": {},
   "source": [
    "<h3>GRAPHICAL METHODS AND STATISTICAL TESTS FOR HEIGHT COLUMN<h3>"
   ]
  },
  {
   "cell_type": "code",
   "execution_count": 42,
   "id": "6f37fc2e",
   "metadata": {},
   "outputs": [],
   "source": [
    "# for height column \n",
    "# using Histogram graph, Box Plot graph, Shapiro-Wilk test"
   ]
  },
  {
   "cell_type": "code",
   "execution_count": 43,
   "id": "96fcdde5",
   "metadata": {},
   "outputs": [
    {
     "data": {
      "text/plain": [
       "0       125.0\n",
       "1        57.0\n",
       "2        33.0\n",
       "3        60.0\n",
       "4        59.0\n",
       "        ...  \n",
       "1141    106.0\n",
       "1142     30.0\n",
       "1143    170.0\n",
       "1144    101.0\n",
       "1145     23.0\n",
       "Name: height, Length: 1146, dtype: float64"
      ]
     },
     "execution_count": 43,
     "metadata": {},
     "output_type": "execute_result"
    }
   ],
   "source": [
    "# height column\n",
    "height = df1.iloc[:, 0]\n",
    "height"
   ]
  },
  {
   "cell_type": "code",
   "execution_count": 44,
   "id": "82a78198",
   "metadata": {},
   "outputs": [
    {
     "data": {
      "text/plain": [
       "Text(0.5, 1.0, 'Histogram Graph for Height Column')"
      ]
     },
     "execution_count": 44,
     "metadata": {},
     "output_type": "execute_result"
    },
    {
     "data": {
      "image/png": "[encoded data removed]",
      "text/plain": [
       "<Figure size 640x480 with 1 Axes>"
      ]
     },
     "metadata": {},
     "output_type": "display_data"
    }
   ],
   "source": [
    "# plotting a histogram graph for height column\n",
    "plt.hist(height)\n",
    "plt.title(\"Histogram Graph for Height Column\")"
   ]
  },
  {
   "cell_type": "code",
   "execution_count": 45,
   "id": "179875d4",
   "metadata": {},
   "outputs": [
    {
     "data": {
      "image/png": "[encoded data removed]",
      "text/plain": [
       "<Figure size 640x480 with 1 Axes>"
      ]
     },
     "metadata": {},
     "output_type": "display_data"
    }
   ],
   "source": [
    "# plotting a box plot for height column\n",
    "plt.boxplot(height)\n",
    "plt.title(\"Box Plot for Height Column\")\n",
    "plt.ylabel(\"Values\")\n",
    "plt.show()"
   ]
  },
  {
   "cell_type": "code",
   "execution_count": 46,
   "id": "9225a515",
   "metadata": {},
   "outputs": [
    {
     "name": "stdout",
     "output_type": "stream",
     "text": [
      "Sample:\n",
      "0       125.0\n",
      "50       73.0\n",
      "100      80.0\n",
      "150      11.0\n",
      "200     172.0\n",
      "250      23.0\n",
      "300      92.0\n",
      "350      85.0\n",
      "400     115.0\n",
      "450     118.0\n",
      "500      46.0\n",
      "550     170.0\n",
      "600     105.0\n",
      "650     151.0\n",
      "700      83.0\n",
      "750      52.0\n",
      "800      47.0\n",
      "850     210.0\n",
      "900     162.0\n",
      "950     325.0\n",
      "1000    137.0\n",
      "1050    100.0\n",
      "1100     60.0\n",
      "Name: height, dtype: float64\n"
     ]
    },
    {
     "data": {
      "text/plain": [
       "Text(0.5, 1.0, 'Histogram Graph for Sample')"
      ]
     },
     "execution_count": 46,
     "metadata": {},
     "output_type": "execute_result"
    },
    {
     "data": {
      "image/png": "[encoded data removed]",
      "text/plain": [
       "<Figure size 640x480 with 1 Axes>"
      ]
     },
     "metadata": {},
     "output_type": "display_data"
    }
   ],
   "source": [
    "# selecting a sample from the height column where the index increases by fifty each time\n",
    "#sistematik basit rastgele örnekleme\n",
    "sample = height[::50]\n",
    "print(\"Sample:\")\n",
    "print(sample)\n",
    "\n",
    "# plotting a histogram graph for sample\n",
    "plt.hist(sample)\n",
    "plt.title(\"Histogram Graph for Sample\")"
   ]
  },
  {
   "cell_type": "code",
   "execution_count": 47,
   "id": "59ed9408",
   "metadata": {},
   "outputs": [
    {
     "data": {
      "image/png": "[encoded data removed]",
      "text/plain": [
       "<Figure size 640x480 with 1 Axes>"
      ]
     },
     "metadata": {},
     "output_type": "display_data"
    }
   ],
   "source": [
    "# plotting a box plot for sample\n",
    "plt.boxplot(sample)\n",
    "plt.title(\"Box Plot for Sample\")\n",
    "plt.ylabel(\"Values\")\n",
    "plt.show()\n",
    "\n",
    "# aykırı değerin olduğu, her iki grafiksel gösterimde de görünmekte\n",
    "# The outlier is visible in both graphical representations/methods."
   ]
  },
  {
   "cell_type": "code",
   "execution_count": 48,
   "id": "ae90287c",
   "metadata": {},
   "outputs": [
    {
     "name": "stdout",
     "output_type": "stream",
     "text": [
      "Test İstatistiği: 0.9129422307014465\n",
      "p-değeri: 0.04712770879268646\n",
      "Örneklem normal dağılıma uymuyor.\n"
     ]
    }
   ],
   "source": [
    "# Shapiro-Wilk test for sample which contains OUTLIER(AYKIRI DEĞER)\n",
    "stat, p_value = shapiro(sample)\n",
    "\n",
    "print(\"Test İstatistiği:\", stat)\n",
    "print(\"p-değeri:\", p_value)\n",
    "\n",
    "# H0: The data is normally distributed\n",
    "# H1: The data is NOT normally distributed.\n",
    "\n",
    "if p_value > 0.05:\n",
    "    print(\"Örneklem normal dağılıma uyuyor.\")\n",
    "else:\n",
    "    print(\"Örneklem normal dağılıma uymuyor.\")\n",
    "    \n",
    "# if H0 rejected, it means that the dataset does NOT follow a normal distribution."
   ]
  },
  {
   "cell_type": "code",
   "execution_count": 49,
   "id": "973c67a3",
   "metadata": {},
   "outputs": [
    {
     "name": "stdout",
     "output_type": "stream",
     "text": [
      "New Sample:\n",
      "0       125.0\n",
      "50       73.0\n",
      "100      80.0\n",
      "150      11.0\n",
      "200     172.0\n",
      "250      23.0\n",
      "300      92.0\n",
      "350      85.0\n",
      "400     115.0\n",
      "450     118.0\n",
      "500      46.0\n",
      "550     170.0\n",
      "600     105.0\n",
      "650     151.0\n",
      "700      83.0\n",
      "750      52.0\n",
      "800      47.0\n",
      "850     210.0\n",
      "900     162.0\n",
      "1000    137.0\n",
      "1050    100.0\n",
      "1100     60.0\n",
      "Name: height, dtype: float64\n"
     ]
    },
    {
     "data": {
      "image/png": "[encoded data removed]",
      "text/plain": [
       "<Figure size 640x480 with 1 Axes>"
      ]
     },
     "metadata": {},
     "output_type": "display_data"
    }
   ],
   "source": [
    "# creating the same sample to apply graphical methods and statistical tests, when there are no outliers in the dataset\n",
    "sample1 = height[::50]\n",
    "\n",
    "# deleting outlier, 950. index\n",
    "del sample1[950]\n",
    "\n",
    "# plotting a box plot for new sample\n",
    "print(\"New Sample:\")\n",
    "print(sample1)\n",
    "plt.boxplot(sample1)\n",
    "plt.title(\"Box Plot for Sample\")\n",
    "plt.ylabel(\"Height\")\n",
    "plt.show()\n",
    "\n",
    "# there is no more outlier"
   ]
  },
  {
   "cell_type": "code",
   "execution_count": 50,
   "id": "686e361e",
   "metadata": {},
   "outputs": [
    {
     "name": "stdout",
     "output_type": "stream",
     "text": [
      "Test İstatistiği: 0.9830598831176758\n",
      "p-değeri: 0.9568560719490051\n",
      "Örneklem normal dağılıma uyuyor.\n"
     ]
    }
   ],
   "source": [
    "# Shapiro-Wilk test for new sample which does NOT contain OUTLIER(AYKIRI DEĞER)\n",
    "\n",
    "# applying shapiro-wilk test \n",
    "stat, p_value = shapiro(sample1)\n",
    "\n",
    "print(\"Test İstatistiği:\", stat)\n",
    "print(\"p-değeri:\", p_value)\n",
    "\n",
    "# H0: The data is normally distributed\n",
    "# H1: The data is NOT normally distributed.\n",
    "\n",
    "if p_value > 0.05:\n",
    "    print(\"Örneklem normal dağılıma uyuyor.\")\n",
    "else:\n",
    "    print(\"Örneklem normal dağılıma uymuyor.\")\n",
    "    \n",
    "# if H0 can NOT be rejected, it means that the dataset follows a normal distribution.\n",
    "\n",
    "# We observed that our dataset did not fit a normal distribution when there were outliers, but it did fit a normal\n",
    "#distribution when there were none. We have seen how outliers can affect/change the dataset."
   ]
  },
  {
   "cell_type": "markdown",
   "id": "2cbea6cd",
   "metadata": {},
   "source": [
    "<h3>T Test Application<h3>"
   ]
  },
  {
   "cell_type": "code",
   "execution_count": 51,
   "id": "4ef93d4e",
   "metadata": {},
   "outputs": [
    {
     "name": "stdout",
     "output_type": "stream",
     "text": [
      "Ad Data:\n",
      "    height  width  ratio(width/height) local ad status\n",
      "0    125.0  125.0               1.0000     1       ad.\n",
      "1     57.0  468.0               8.2105     1       ad.\n",
      "2     33.0  230.0               6.9696     1       ad.\n",
      "3     60.0  468.0               7.8000     1       ad.\n",
      "4     59.0  460.0               7.7966     1       ad.\n",
      "..     ...    ...                  ...   ...       ...\n",
      "88    38.0  264.0               6.9473     1       ad.\n",
      "89    55.0  416.0               7.5636     1       ad.\n",
      "90    36.0  216.0               6.0000     1       ad.\n",
      "91    72.0  144.0               2.0000     1       ad.\n",
      "92    50.0  150.0               3.0000     1       ad.\n",
      "\n",
      "[93 rows x 5 columns]\n",
      "\n",
      "Non-Ad Data:\n",
      "          height       width  ratio(width/height) local ad status\n",
      "93     64.021886  155.344828             3.911953     1    nonad.\n",
      "94     46.000000  109.000000             2.369500     1    nonad.\n",
      "95     12.000000   57.000000             4.750000     1    nonad.\n",
      "96     95.000000  150.000000             1.578900     0    nonad.\n",
      "97     64.021886  155.344828             3.911953     0    nonad.\n",
      "...          ...         ...                  ...   ...       ...\n",
      "1141  106.000000  110.000000             1.037700     1    nonad.\n",
      "1142   30.000000   30.000000             1.000000     0    nonad.\n",
      "1143  170.000000   94.000000             0.552900     0    nonad.\n",
      "1144  101.000000  140.000000             1.386100     1    nonad.\n",
      "1145   23.000000  120.000000             5.217300     1    nonad.\n",
      "\n",
      "[1053 rows x 5 columns]\n"
     ]
    }
   ],
   "source": [
    "# separating rows according to the 'ad status' column\n",
    "ad_data = df1[df1['ad status'] == 'ad.']\n",
    "nonad_data = df1[df1['ad status'] == 'nonad.']\n",
    "\n",
    "print(\"Ad Data:\")\n",
    "print(ad_data)\n",
    "\n",
    "print(\"\\nNon-Ad Data:\")\n",
    "print(nonad_data)"
   ]
  },
  {
   "cell_type": "code",
   "execution_count": 52,
   "id": "f99f9cfc",
   "metadata": {},
   "outputs": [],
   "source": [
    "# creating a sample which has 9 value\n",
    "ad_sample = ad_data[:9]\n",
    "nonad_sample = nonad_data[:9]"
   ]
  },
  {
   "cell_type": "code",
   "execution_count": 53,
   "id": "400ecb80",
   "metadata": {},
   "outputs": [
    {
     "name": "stdout",
     "output_type": "stream",
     "text": [
      "TtestResult(statistic=1.2348613357630482, pvalue=0.23470998783691055, df=16.0)\n"
     ]
    }
   ],
   "source": [
    "# application of the t-test\n",
    "# hypotheses;\n",
    "\n",
    "# Oran(ratio) sütununa göre elimizde bulunan görsellerin reklam olma(ad.) ve reklam olmama(nonad.) durumları/olasılıkları\n",
    "# karşılaştırılacaktır. Her iki veri setinden de 9 görselden oluşan örneklemler alınır. Bu iki veri seti arasındaki durumu\n",
    "# %5 anlamlılık düzeyinde yorumlayalım.\n",
    "# H0: İki veri setinin dağılımları eşittir.\n",
    "# H1: İki veri setinin dağılımları eşit değildir.\n",
    "\n",
    "# ratio(height/width) columns for each sample\n",
    "ad_sample_ratio = ad_sample.iloc[:,2]\n",
    "nonad_sample_ratio = nonad_sample.iloc[:,2]\n",
    "\n",
    "statistic, p_value = sp.ttest_ind(ad_sample_ratio, nonad_sample_ratio)\n",
    "print(sp.ttest_ind(ad_sample_ratio, nonad_sample_ratio))"
   ]
  },
  {
   "cell_type": "code",
   "execution_count": 54,
   "id": "d3a9b90d",
   "metadata": {},
   "outputs": [
    {
     "name": "stdout",
     "output_type": "stream",
     "text": [
      "Sıfır hipotezi reddedilemez.\n"
     ]
    }
   ],
   "source": [
    "# explication\n",
    "alfa = 0.05\n",
    "if(p_value < alfa):\n",
    "    print(\"Sıfır hipotezi reddedilir.\")\n",
    "else:\n",
    "    print(\"Sıfır hipotezi reddedilemez.\")\n",
    "\n",
    "# eğer H0 reddedilemez ise oran sütunua göre görsellerin reklam olma ve olmama olasılıkları eşit çıkmaktadır."
   ]
  },
  {
   "cell_type": "code",
   "execution_count": null,
   "id": "0c3a6f97",
   "metadata": {},
   "outputs": [],
   "source": []
  }
 ],
 "metadata": {
  "kernelspec": {
   "display_name": "Python 3 (ipykernel)",
   "language": "python",
   "name": "python3"
  },
  "language_info": {
   "codemirror_mode": {
    "name": "ipython",
    "version": 3
   },
   "file_extension": ".py",
   "mimetype": "text/x-python",
   "name": "python",
   "nbconvert_exporter": "python",
   "pygments_lexer": "ipython3",
   "version": "3.11.5"
  }
 },
 "nbformat": 4,
 "nbformat_minor": 5
}
